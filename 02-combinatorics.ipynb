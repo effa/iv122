{
 "cells": [
  {
   "cell_type": "markdown",
   "metadata": {},
   "source": [
    "# Combinatorics"
   ]
  },
  {
   "cell_type": "code",
   "execution_count": 1,
   "metadata": {
    "collapsed": true
   },
   "outputs": [],
   "source": [
    "# Settings and imports.\n",
    "%matplotlib inline\n",
    "from collections import Counter, OrderedDict, defaultdict\n",
    "from functools import partial\n",
    "from itertools import count\n",
    "import math\n",
    "from math import sqrt\n",
    "from random import random\n",
    "from time import time\n",
    "import json\n",
    "import networkx as nx\n",
    "import numpy as np\n",
    "import matplotlib.pyplot as plt\n",
    "import pandas as pd\n",
    "from PIL import Image, ImageDraw, ImageColor\n",
    "import seaborn as sns\n",
    "\n",
    "#sns.set()\n",
    "#sns.set_context('paper', font_scale=2.0)"
   ]
  },
  {
   "cell_type": "markdown",
   "metadata": {},
   "source": [
    "-----\n",
    "\n",
    "# A) Permu/Combi/Variations"
   ]
  },
  {
   "cell_type": "code",
   "execution_count": 4,
   "metadata": {},
   "outputs": [
    {
     "name": "stdout",
     "output_type": "stream",
     "text": [
      "ABC\n",
      "ACB\n",
      "BAC\n",
      "BCA\n",
      "CAB\n",
      "CBA\n"
     ]
    }
   ],
   "source": [
    "def print_permutations(items, prefix=''):\n",
    "    if not items:\n",
    "        print(prefix)\n",
    "        return\n",
    "    for i, item in enumerate(items):\n",
    "        print_permutations(items[:i] + items[i+1:], prefix+item)\n",
    "    \n",
    "print_permutations('ABC')"
   ]
  },
  {
   "cell_type": "code",
   "execution_count": 6,
   "metadata": {},
   "outputs": [
    {
     "name": "stdout",
     "output_type": "stream",
     "text": [
      "AB\n",
      "AC\n",
      "AD\n",
      "BC\n",
      "BD\n",
      "CD\n"
     ]
    }
   ],
   "source": [
    "def print_combinations(items, k, prefix=''):\n",
    "    if k == 0:\n",
    "        print(prefix)\n",
    "    if k > 0 and items:\n",
    "        for i, item in enumerate(items):\n",
    "            print_combinations(items[i+1:], k-1, prefix+item)\n",
    "    \n",
    "print_combinations('ABCD', 2)\n",
    "# TODO: another approach: for first item: take it or not (two branches)"
   ]
  },
  {
   "cell_type": "code",
   "execution_count": 7,
   "metadata": {},
   "outputs": [
    {
     "name": "stdout",
     "output_type": "stream",
     "text": [
      "AA\n",
      "AB\n",
      "AC\n",
      "AD\n",
      "BB\n",
      "BC\n",
      "BD\n",
      "CC\n",
      "CD\n",
      "DD\n"
     ]
    }
   ],
   "source": [
    "def print_combinations_with_replacement(items, k, prefix=''):\n",
    "    if k == 0:\n",
    "        print(prefix)\n",
    "    if k > 0 and items:\n",
    "        for i, item in enumerate(items):\n",
    "            print_combinations_with_replacement(items[i:], k-1, prefix+item)\n",
    "    \n",
    "print_combinations_with_replacement('ABCD', 2)"
   ]
  },
  {
   "cell_type": "code",
   "execution_count": 9,
   "metadata": {},
   "outputs": [
    {
     "name": "stdout",
     "output_type": "stream",
     "text": [
      "AB\n",
      "AC\n",
      "AD\n",
      "BA\n",
      "BC\n",
      "BD\n",
      "CA\n",
      "CB\n",
      "CD\n",
      "DA\n",
      "DB\n",
      "DC\n"
     ]
    }
   ],
   "source": [
    "def print_variations(items, k, prefix=''):\n",
    "    if k == 0:\n",
    "        print(prefix)\n",
    "        return\n",
    "    for i, item in enumerate(items):\n",
    "        print_variations(items[:i] + items[i+1:], k-1, prefix+item)\n",
    "    \n",
    "print_variations('ABCD', 2)"
   ]
  },
  {
   "cell_type": "code",
   "execution_count": 11,
   "metadata": {},
   "outputs": [
    {
     "name": "stdout",
     "output_type": "stream",
     "text": [
      "AA\n",
      "AB\n",
      "AC\n",
      "BA\n",
      "BB\n",
      "BC\n",
      "CA\n",
      "CB\n",
      "CC\n"
     ]
    }
   ],
   "source": [
    "def print_variations_with_replacement(items, k, prefix=''):\n",
    "    if k == 0:\n",
    "        print(prefix)\n",
    "        return\n",
    "    for i, item in enumerate(items):\n",
    "        print_variations_with_replacement(items, k-1, prefix+item)\n",
    "    \n",
    "print_variations_with_replacement('ABC', 2)"
   ]
  },
  {
   "cell_type": "markdown",
   "metadata": {
    "collapsed": true
   },
   "source": [
    "# TODO\n",
    "\n",
    "* graf: pro ktere kombinace n, k je vetsi pocet komb. s opakovani a kdy variace"
   ]
  },
  {
   "cell_type": "markdown",
   "metadata": {},
   "source": [
    "# Pascal Triangle\n",
    "\n",
    "TODO: alternativni moznosti vizualizace (napr. matplotlib)"
   ]
  },
  {
   "cell_type": "code",
   "execution_count": 63,
   "metadata": {},
   "outputs": [
    {
     "data": {
      "image/png": "[encoded data removed]",
      "text/plain": [
       "<PIL.Image.Image image mode=RGB size=242x242 at 0x7F8B3707C940>"
      ]
     },
     "execution_count": 63,
     "metadata": {},
     "output_type": "execute_result"
    }
   ],
   "source": [
    "def compute_pascal_triangle(n, d):\n",
    "    triangle = [[1]]\n",
    "    for i_row in range(n-1):\n",
    "        prev_left = triangle[-1] + [0]\n",
    "        prev_right = [0] + triangle[-1]\n",
    "        new_row = [(l + r) % d for l, r in zip(prev_left, prev_right)]\n",
    "        triangle.append(new_row)\n",
    "    return triangle\n",
    "\n",
    "def show_pascal_triangle(n, d, sqwidth=5):\n",
    "    triangle = compute_pascal_triangle(n, d)\n",
    "    size = n * sqwidth + 2\n",
    "    im = Image.new('RGB', (size, size), color='white')\n",
    "    draw = ImageDraw.Draw(im)\n",
    "    colormap = list(ImageColor.colormap)\n",
    "    for i_row, row in enumerate(triangle):\n",
    "        row_left = sqwidth * (n - i_row - 1) / 2\n",
    "        top = i_row * sqwidth + 1\n",
    "        bottom = top + sqwidth\n",
    "        for i_col, value in enumerate(row):\n",
    "            left = row_left + i_col * sqwidth + 1\n",
    "            right = left + sqwidth\n",
    "            draw.rectangle(\n",
    "                [left, top, right, bottom],\n",
    "                outline='black', fill=colormap[value])\n",
    "    return im\n",
    "\n",
    "show_pascal_triangle(n=48, d=4)"
   ]
  },
  {
   "cell_type": "markdown",
   "metadata": {
    "collapsed": true
   },
   "source": [
    "# Approximating $\\pi$\n",
    "\n",
    "TODO: at least one more method"
   ]
  },
  {
   "cell_type": "code",
   "execution_count": 83,
   "metadata": {},
   "outputs": [
    {
     "data": {
      "text/plain": [
       "3.1415931069570795"
      ]
     },
     "execution_count": 83,
     "metadata": {},
     "output_type": "execute_result"
    }
   ],
   "source": [
    "def pi_leibnitz(duration=1):\n",
    "    start = time()\n",
    "    pi = 0\n",
    "    for k in count(0):\n",
    "        sign = 1 if k % 2 == 0 else -1\n",
    "        term = 4 * sign / (2*k + 1)\n",
    "        pi += term\n",
    "        if time() > start + duration:\n",
    "            return pi\n",
    "\n",
    "pi_leibnitz()"
   ]
  },
  {
   "cell_type": "code",
   "execution_count": 84,
   "metadata": {},
   "outputs": [
    {
     "data": {
      "text/plain": [
       "3.141592653589792"
      ]
     },
     "execution_count": 84,
     "metadata": {},
     "output_type": "execute_result"
    }
   ],
   "source": [
    "def pi_archimed(duration=1):\n",
    "    start = time()\n",
    "    a, b = 2 * sqrt(3), 3\n",
    "    for k in count(0):\n",
    "        a = 2 * a * b / (a + b)\n",
    "        b = sqrt(a * b)\n",
    "        if time() > start + duration:\n",
    "            return (a + b) / 2\n",
    "        \n",
    "pi_archimed()"
   ]
  },
  {
   "cell_type": "code",
   "execution_count": 92,
   "metadata": {},
   "outputs": [
    {
     "data": {
      "text/plain": [
       "3.1411636739058295"
      ]
     },
     "execution_count": 92,
     "metadata": {},
     "output_type": "execute_result"
    }
   ],
   "source": [
    "def pi_monte_carlo(duration=1):\n",
    "    start = time()\n",
    "    n_inside = 0\n",
    "    for n in count(1):\n",
    "        x, y = random(), random()\n",
    "        n_inside += int(x**2 + y**2 < 1)\n",
    "        if time() > start + duration:\n",
    "            pi = 4 * n_inside / n\n",
    "            return pi\n",
    "        \n",
    "pi_monte_carlo()"
   ]
  },
  {
   "cell_type": "code",
   "execution_count": 111,
   "metadata": {},
   "outputs": [
    {
     "name": "stdout",
     "output_type": "stream",
     "text": [
      "pi_python      3.1415926535897931 0.0000000000000000\n",
      "pi_archimed    3.1415926535897918 0.0000000000000013\n",
      "pi_leibnitz    3.1415974948215526 0.0000048412317595\n",
      "pi_monte_carlo 3.1475521272036766 0.0059594736138835\n"
     ]
    }
   ],
   "source": [
    "def pi_python(_duration):\n",
    "    return math.pi\n",
    "\n",
    "def evaluate_pi_approximations(\n",
    "        fns=[pi_leibnitz, pi_archimed, pi_monte_carlo],\n",
    "        duration=1):\n",
    "    results = []\n",
    "    fns = [pi_python] + fns\n",
    "    for fn in fns:\n",
    "        pi_approx = fn(duration)\n",
    "        diff = abs(pi_approx - math.pi)\n",
    "        results.append((diff, pi_approx, fn.__name__))\n",
    "    for diff, pi, name in sorted(results):\n",
    "        print('{0:14} {1:.16f} {2:.16f}'.format(name, pi, diff))\n",
    "\n",
    "evaluate_pi_approximations(duration=0.1)"
   ]
  },
  {
   "cell_type": "markdown",
   "metadata": {},
   "source": [
    "# Exponentiation\n",
    "\n",
    "TODO: implement, analyze"
   ]
  },
  {
   "cell_type": "code",
   "execution_count": 2,
   "metadata": {},
   "outputs": [
    {
     "data": {
      "text/plain": [
       "1"
      ]
     },
     "execution_count": 2,
     "metadata": {},
     "output_type": "execute_result"
    }
   ],
   "source": [
    "def power_mod(a, n, k):\n",
    "    return 1\n",
    "\n",
    "\n",
    "power_mod(3, 2, 10)"
   ]
  },
  {
   "cell_type": "code",
   "execution_count": null,
   "metadata": {
    "collapsed": true
   },
   "outputs": [],
   "source": []
  },
  {
   "cell_type": "code",
   "execution_count": null,
   "metadata": {
    "collapsed": true
   },
   "outputs": [],
   "source": []
  },
  {
   "cell_type": "code",
   "execution_count": null,
   "metadata": {
    "collapsed": true
   },
   "outputs": [],
   "source": []
  }
 ],
 "metadata": {
  "kernelspec": {
   "display_name": "Python 3",
   "language": "python",
   "name": "python3"
  },
  "language_info": {
   "codemirror_mode": {
    "name": "ipython",
    "version": 3
   },
   "file_extension": ".py",
   "mimetype": "text/x-python",
   "name": "python",
   "nbconvert_exporter": "python",
   "pygments_lexer": "ipython3",
   "version": "3.6.1"
  }
 },
 "nbformat": 4,
 "nbformat_minor": 2
}
