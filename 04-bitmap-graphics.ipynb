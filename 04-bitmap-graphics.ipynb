{
 "cells": [
  {
   "cell_type": "markdown",
   "metadata": {},
   "source": [
    "# Bitmap Graphics"
   ]
  },
  {
   "cell_type": "code",
   "execution_count": 1,
   "metadata": {
    "collapsed": true
   },
   "outputs": [],
   "source": [
    "# Settings and imports.\n",
    "%matplotlib inline\n",
    "from collections import Counter, OrderedDict, defaultdict\n",
    "from functools import partial\n",
    "from itertools import count\n",
    "from math import sqrt, pi, sin, cos, atan, radians, degrees\n",
    "from random import random\n",
    "from time import time\n",
    "import json\n",
    "import networkx as nx\n",
    "import numpy as np\n",
    "import matplotlib.pyplot as plt\n",
    "import pandas as pd\n",
    "from PIL import Image, ImageDraw, ImageColor\n",
    "import seaborn as sns\n",
    "\n",
    "#sns.set()\n",
    "#sns.set_context('paper', font_scale=2.0)"
   ]
  },
  {
   "cell_type": "markdown",
   "metadata": {},
   "source": [
    "-----\n",
    "\n",
    "# A) Basic Shapes\n",
    "\n"
   ]
  },
  {
   "cell_type": "code",
   "execution_count": 2,
   "metadata": {},
   "outputs": [
    {
     "data": {
      "image/png": "[encoded data removed]",
      "text/plain": [
       "<PIL.Image.Image image mode=RGB size=200x200 at 0x7FA623E7A8D0>"
      ]
     },
     "execution_count": 2,
     "metadata": {},
     "output_type": "execute_result"
    }
   ],
   "source": [
    "BLACK = (0, 0, 0)\n",
    "\n",
    "def disc(r, size):\n",
    "    im = Image.new('RGB', (size, size), color='white')\n",
    "    mid = size / 2\n",
    "    for x in range(size):\n",
    "        for y in range(size):\n",
    "            if (x-mid)**2 + (y-mid)**2 < r**2:\n",
    "                im.putpixel((x, y), BLACK)\n",
    "    return im\n",
    "\n",
    "disc(r=80, size=200)"
   ]
  },
  {
   "cell_type": "code",
   "execution_count": 3,
   "metadata": {},
   "outputs": [
    {
     "data": {
      "image/png": "[encoded data removed]",
      "text/plain": [
       "<PIL.Image.Image image mode=RGB size=200x200 at 0x7FA623DF2630>"
      ]
     },
     "execution_count": 3,
     "metadata": {},
     "output_type": "execute_result"
    }
   ],
   "source": [
    "def circle(r, linewidth, size):\n",
    "    mid = size / 2    \n",
    "    def on_circle(x, y):\n",
    "        return (\n",
    "            (x-mid)**2 + (y-mid)**2 < (r+linewidth/2)**2\n",
    "            and (x-mid)**2 + (y-mid)**2 > (r-linewidth/2)**2)\n",
    "\n",
    "    im = Image.new('RGB', (size, size), color='white')\n",
    "    for x in range(size):\n",
    "        for y in range(size):\n",
    "            if on_circle(x, y):\n",
    "                im.putpixel((x, y), BLACK)\n",
    "    return im\n",
    "\n",
    "circle(r=80, linewidth=5, size=200)"
   ]
  },
  {
   "cell_type": "code",
   "execution_count": 4,
   "metadata": {},
   "outputs": [
    {
     "data": {
      "image/png": "[encoded data removed]",
      "text/plain": [
       "<PIL.Image.Image image mode=RGB size=200x200 at 0x7FA623DF25F8>"
      ]
     },
     "execution_count": 4,
     "metadata": {},
     "output_type": "execute_result"
    }
   ],
   "source": [
    "# In this function, I used different semantics of radius+linewidth\n",
    "# - r is the outer radius.\n",
    "\n",
    "def circle_parametric(r, linewidth, size):\n",
    "    mid = size / 2 \n",
    "    im = Image.new('RGB', (size, size), color='white')\n",
    "    n_steps = 3 * 360  # TODO: Choose wrt. to r?\n",
    "    for step in range(n_steps):\n",
    "        alpha = 2 * pi * step / n_steps\n",
    "        for radius in range(r - linewidth + 1, r+1):\n",
    "            x = int(mid + radius * cos(alpha))\n",
    "            y = int(mid + radius * sin(alpha))\n",
    "            im.putpixel((x, y), BLACK)\n",
    "    return im\n",
    "\n",
    "circle_parametric(r=80, linewidth=5, size=200)"
   ]
  },
  {
   "cell_type": "code",
   "execution_count": 10,
   "metadata": {},
   "outputs": [
    {
     "data": {
      "image/png": "[encoded data removed]",
      "text/plain": [
       "<PIL.Image.Image image mode=RGB size=200x200 at 0x7FA624598F60>"
      ]
     },
     "execution_count": 10,
     "metadata": {},
     "output_type": "execute_result"
    }
   ],
   "source": [
    "def get_color(x, y, size):\n",
    "    blue = int(x/size * 255)\n",
    "    red = int(y/size * 255)\n",
    "    green = int((x+y)/(2*size) * 255)\n",
    "    return (red, green, blue)\n",
    "\n",
    "def spiral(r, linewidth, n_turns, size):\n",
    "    mid = size / 2 \n",
    "    im = Image.new('RGB', (size, size), color='white')\n",
    "    n_steps_per_turn = 3 * 360\n",
    "    n_steps_total = n_steps_per_turn * n_turns\n",
    "    for step in range(n_steps_total):\n",
    "        alpha = 2 * pi * step / n_steps_per_turn\n",
    "        spiral_radius = r * step / n_steps_total\n",
    "        for k in range(linewidth):\n",
    "            x = int(mid + (spiral_radius-k) * cos(alpha))\n",
    "            y = int(mid + (spiral_radius-k) * sin(alpha))\n",
    "            im.putpixel((x, y), get_color(x, y, size))\n",
    "    return im\n",
    "\n",
    "spiral(r=80, linewidth=4, n_turns=5, size=200)"
   ]
  },
  {
   "cell_type": "code",
   "execution_count": 21,
   "metadata": {},
   "outputs": [
    {
     "data": {
      "image/png": "[encoded data removed]",
      "text/plain": [
       "<PIL.Image.Image image mode=RGB size=200x200 at 0x7FA623B87CC0>"
      ]
     },
     "execution_count": 21,
     "metadata": {},
     "output_type": "execute_result"
    }
   ],
   "source": [
    "# Main trap: \"image coordinates\" - (0, 0) in top-left corner.\n",
    "# TODO: Fix vertical shift (check for side=200).\n",
    "\n",
    "def distance(a, b):\n",
    "    dx = a[0] - b[0]\n",
    "    dy = a[1] - b[1]\n",
    "    return sqrt(dx**2 + dy**2)\n",
    "\n",
    "\n",
    "def triangle(side, size):\n",
    "    def transform(ix, iy):\n",
    "        \"\"\"Convert image-coordinates into drawing coordinates,\n",
    "           s.t. origin is at the center of bottom side.\n",
    "        \"\"\"\n",
    "        mid = size / 2\n",
    "        x = ix - mid\n",
    "        y = size - iy - mid + (1/3) * side * sqrt(3)/2\n",
    "        return x, y\n",
    "    \n",
    "    def in_triangle(x, y):\n",
    "        # Assume transformed coordinates.\n",
    "        in_halfplane1 = y <= -sqrt(3)*x + side*sqrt(3)/2\n",
    "        in_halfplane2 = y <= sqrt(3)*x + side*sqrt(3)/2\n",
    "        in_halfplane3 = y >= 0\n",
    "        return in_halfplane1 and in_halfplane2 and in_halfplane3\n",
    "    \n",
    "    def get_color(x, y):\n",
    "        vertices = [\n",
    "            (0, side*sqrt(3)/2),\n",
    "            (-side/2, 0),\n",
    "            (side/2, 0)\n",
    "        ]\n",
    "        color = tuple(\n",
    "            int(distance((x, y), vertex)/side * 255)\n",
    "            for vertex in vertices)\n",
    "        return color\n",
    "    \n",
    "    im = Image.new('RGB', (size, size), color='white')\n",
    "    for ix in range(size):\n",
    "        for iy in range(size):\n",
    "            x, y = transform(ix, iy) \n",
    "            if in_triangle(x, y):\n",
    "                im.putpixel((ix, iy), get_color(x, y))\n",
    "    return im\n",
    "\n",
    "triangle(side=150, size=200)"
   ]
  },
  {
   "cell_type": "code",
   "execution_count": 82,
   "metadata": {},
   "outputs": [
    {
     "data": {
      "image/png": "[encoded data removed]",
      "text/plain": [
       "<PIL.Image.Image image mode=RGB size=200x200 at 0x7FA623C112E8>"
      ]
     },
     "execution_count": 82,
     "metadata": {},
     "output_type": "execute_result"
    }
   ],
   "source": [
    "# TODO: Fix - I'm not able to rotate the ellipse arbitrarily.\n",
    "\n",
    "def ellipse(a, b, c, size):\n",
    "    mid = size / 2     \n",
    "    im = Image.new('RGB', (size, size), color='white')\n",
    "    for ix in range(size):\n",
    "        for iy in range(size):\n",
    "            x = ix - mid\n",
    "            y = iy - mid\n",
    "            dist = (x/a)**2 + (y/b)**2 + (x*y/(c**2))\n",
    "            if dist <= 1:\n",
    "                intensity = int(255 * dist)\n",
    "                color = (intensity, intensity, intensity)\n",
    "                im.putpixel((ix, iy), color)\n",
    "    return im\n",
    "\n",
    "ellipse(a=30, b=60, c=35, size=200)"
   ]
  },
  {
   "cell_type": "markdown",
   "metadata": {},
   "source": [
    "-----\n",
    "\n",
    "# B) Polygon\n",
    "\n",
    "Implemented according to the advice from the lecture:\n",
    "for each horizontal line:\n",
    "color points based on even/odd number of intersections of\n",
    "half-line with line segments of the polygon."
   ]
  },
  {
   "cell_type": "code",
   "execution_count": 105,
   "metadata": {},
   "outputs": [
    {
     "name": "stdout",
     "output_type": "stream",
     "text": [
      "20 [10.588235294117647, 180.0, 180.0]\n"
     ]
    },
    {
     "data": {
      "image/png": "[encoded data removed]",
      "text/plain": [
       "<PIL.Image.Image image mode=RGB size=190x190 at 0x7FA623A28780>"
      ]
     },
     "execution_count": 105,
     "metadata": {},
     "output_type": "execute_result"
    }
   ],
   "source": [
    "def get_x_intersection(segment, y):\n",
    "    # Return x-coordiante of point on given y-coordinate,\n",
    "    # that is on given segment (or None).\n",
    "    ((x1, y1), (x2, y2)) = segment\n",
    "    # Segment can be described parametrically as\n",
    "    # [x1, y1] + t * [x2-x1, y2-y1].\n",
    "    # So we just need to solve the following equations:\n",
    "    # [x1, y1] + t * [x2-x1, y2-y1] = [x, y]\n",
    "    # (with unknowns t in [0, 1] and x).\n",
    "    t = (y - y1) / (y2 - y1)\n",
    "    if t < 0 or t > 1:\n",
    "        # The segment doesn't intersect given y-line.\n",
    "        return None\n",
    "    x = x1 + t * (x2 - x1)\n",
    "    return x\n",
    "    \n",
    "\n",
    "def polygon(path):\n",
    "    size = max(max(vertex) for vertex in path) + 10\n",
    "    im = Image.new('RGB', (size, size), color='white')\n",
    "    n = len(path)\n",
    "    segments = [(path[k], path[(k+1)%n]) for k in range(n)]\n",
    "    for y in range(size):\n",
    "        intersections = [\n",
    "            get_x_intersection(segment, y)\n",
    "            for segment in segments]\n",
    "        intersections = [x for x in intersections if x is not None]\n",
    "        intersections = sorted(intersections)\n",
    "        if len(intersections) % 2 != 0:\n",
    "            print(y, intersections)\n",
    "        for i in range(0, len(intersections), 2):\n",
    "            if i+1 >= len(intersections):\n",
    "                break\n",
    "            start = round(intersections[i])\n",
    "            end = round(intersections[i+1])\n",
    "            for x in range(start, end+1):            \n",
    "                im.putpixel((x, size-y), BLACK)\n",
    "    return im\n",
    "\n",
    "\n",
    "path = [(10, 10), (180, 20), (160, 150), (100, 50), (20, 180)]\n",
    "polygon(path)"
   ]
  },
  {
   "cell_type": "markdown",
   "metadata": {},
   "source": [
    "-----\n",
    "\n",
    "# C) Effects"
   ]
  },
  {
   "cell_type": "code",
   "execution_count": null,
   "metadata": {
    "collapsed": true
   },
   "outputs": [],
   "source": []
  },
  {
   "cell_type": "code",
   "execution_count": null,
   "metadata": {
    "collapsed": true
   },
   "outputs": [],
   "source": []
  }
 ],
 "metadata": {
  "kernelspec": {
   "display_name": "Python 3",
   "language": "python",
   "name": "python3"
  },
  "language_info": {
   "codemirror_mode": {
    "name": "ipython",
    "version": 3
   },
   "file_extension": ".py",
   "mimetype": "text/x-python",
   "name": "python",
   "nbconvert_exporter": "python",
   "pygments_lexer": "ipython3",
   "version": "3.5.3"
  }
 },
 "nbformat": 4,
 "nbformat_minor": 2
}
