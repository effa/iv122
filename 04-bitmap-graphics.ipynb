{
 "cells": [
  {
   "cell_type": "markdown",
   "metadata": {},
   "source": [
    "# Bitmap Graphics"
   ]
  },
  {
   "cell_type": "code",
   "execution_count": 1,
   "metadata": {
    "collapsed": true
   },
   "outputs": [],
   "source": [
    "# Settings and imports.\n",
    "%matplotlib inline\n",
    "from collections import Counter, OrderedDict, defaultdict\n",
    "from functools import partial\n",
    "from itertools import count\n",
    "from math import sqrt, pi, sin, cos, atan, radians, degrees\n",
    "from random import random\n",
    "from time import time\n",
    "import json\n",
    "import networkx as nx\n",
    "import numpy as np\n",
    "import matplotlib.pyplot as plt\n",
    "import pandas as pd\n",
    "from PIL import Image, ImageDraw, ImageColor\n",
    "import seaborn as sns\n",
    "\n",
    "#sns.set()\n",
    "#sns.set_context('paper', font_scale=2.0)"
   ]
  },
  {
   "cell_type": "markdown",
   "metadata": {},
   "source": [
    "-----\n",
    "\n",
    "# A) Basic Shapes\n",
    "\n"
   ]
  },
  {
   "cell_type": "code",
   "execution_count": 4,
   "metadata": {},
   "outputs": [
    {
     "data": {
      "image/png": "[encoded data removed]",
      "text/plain": [
       "<PIL.Image.Image image mode=RGB size=200x200 at 0x7F18D79715C0>"
      ]
     },
     "execution_count": 4,
     "metadata": {},
     "output_type": "execute_result"
    }
   ],
   "source": [
    "BLACK = (0, 0, 0)\n",
    "\n",
    "def disc(r, size):\n",
    "    im = Image.new('RGB', (size, size), color='white')\n",
    "    mid = size / 2\n",
    "    for x in range(size):\n",
    "        for y in range(size):\n",
    "            if (x-mid)**2 + (y-mid)**2 < r**2:\n",
    "                im.putpixel((x, y), BLACK)\n",
    "    return im\n",
    "\n",
    "disc(r=80, size=200)"
   ]
  },
  {
   "cell_type": "code",
   "execution_count": 14,
   "metadata": {},
   "outputs": [
    {
     "data": {
      "image/png": "[encoded data removed]",
      "text/plain": [
       "<PIL.Image.Image image mode=RGB size=200x200 at 0x7F18D78916D8>"
      ]
     },
     "execution_count": 14,
     "metadata": {},
     "output_type": "execute_result"
    }
   ],
   "source": [
    "def circle(r, linewidth, size):\n",
    "    mid = size / 2    \n",
    "    def on_circle(x, y):\n",
    "        return (\n",
    "            (x-mid)**2 + (y-mid)**2 < (r+linewidth/2)**2\n",
    "            and (x-mid)**2 + (y-mid)**2 > (r-linewidth/2)**2)\n",
    "\n",
    "    im = Image.new('RGB', (size, size), color='white')\n",
    "    for x in range(size):\n",
    "        for y in range(size):\n",
    "            if on_circle(x, y):\n",
    "                im.putpixel((x, y), BLACK)\n",
    "    return im\n",
    "\n",
    "circle(r=80, linewidth=5, size=200)"
   ]
  },
  {
   "cell_type": "code",
   "execution_count": 19,
   "metadata": {},
   "outputs": [
    {
     "data": {
      "image/png": "[encoded data removed]",
      "text/plain": [
       "<PIL.Image.Image image mode=RGB size=200x200 at 0x7F18D783EC88>"
      ]
     },
     "execution_count": 19,
     "metadata": {},
     "output_type": "execute_result"
    }
   ],
   "source": [
    "# In this function, I used different semantics of radius+linewidth\n",
    "# - r is the outer radius.\n",
    "\n",
    "def circle_parametric(r, linewidth, size):\n",
    "    mid = size / 2 \n",
    "    im = Image.new('RGB', (size, size), color='white')\n",
    "    n_steps = 3 * 360  # TODO: Choose wrt. to r?\n",
    "    for step in range(n_steps):\n",
    "        alpha = 2 * pi * step / n_steps\n",
    "        for radius in range(r - linewidth + 1, r+1):\n",
    "            x = int(mid + radius * cos(alpha))\n",
    "            y = int(mid + radius * sin(alpha))\n",
    "            im.putpixel((x, y), BLACK)\n",
    "    return im\n",
    "\n",
    "circle_parametric(r=80, linewidth=5, size=200)"
   ]
  },
  {
   "cell_type": "code",
   "execution_count": 41,
   "metadata": {},
   "outputs": [
    {
     "data": {
      "image/png": "[encoded data removed]",
      "text/plain": [
       "<PIL.Image.Image image mode=RGB size=200x200 at 0x7F18D7855A58>"
      ]
     },
     "execution_count": 41,
     "metadata": {},
     "output_type": "execute_result"
    }
   ],
   "source": [
    "# TODO: color\n",
    "\n",
    "def spiral(r, linewidth, n_turns, size):\n",
    "    mid = size / 2 \n",
    "    im = Image.new('RGB', (size, size), color='white')\n",
    "    n_steps_per_turn = 3 * 360\n",
    "    n_steps_total = n_steps_per_turn * n_turns\n",
    "    for step in range(n_steps_total):\n",
    "        alpha = 2 * pi * step / n_steps_per_turn\n",
    "        spiral_radius = r * step / n_steps_total\n",
    "        for k in range(linewidth):\n",
    "            x = int(mid + (spiral_radius-k) * cos(alpha))\n",
    "            y = int(mid + (spiral_radius-k) * sin(alpha))\n",
    "            im.putpixel((x, y), BLACK)\n",
    "    return im\n",
    "\n",
    "spiral(r=80, linewidth=4, n_turns=5, size=200)"
   ]
  },
  {
   "cell_type": "code",
   "execution_count": 55,
   "metadata": {},
   "outputs": [
    {
     "data": {
      "image/png": "[encoded data removed]",
      "text/plain": [
       "<PIL.Image.Image image mode=RGB size=200x200 at 0x7F18D7E47DA0>"
      ]
     },
     "execution_count": 55,
     "metadata": {},
     "output_type": "execute_result"
    }
   ],
   "source": [
    "# TODO: vertikalni posunuti stale neni uplne sprave (viz side=200)\n",
    "\n",
    "def triangle(side, size):\n",
    "    mid = size / 2 \n",
    "    im = Image.new('RGB', (size, size), color='white')\n",
    "    def in_triangle(x, y):\n",
    "        nx = x - mid\n",
    "        ny = size - y - mid + (1/3) * side * sqrt(3)/2\n",
    "        in_halfplane1 = ny <= -sqrt(3)*nx + side*sqrt(3)/2\n",
    "        in_halfplane2 = ny <= sqrt(3)*nx + side*sqrt(3)/2\n",
    "        in_halfplane3 = ny >= 0\n",
    "        return in_halfplane1 and in_halfplane2 and in_halfplane3\n",
    "    \n",
    "    im = Image.new('RGB', (size, size), color='white')\n",
    "    for x in range(size):\n",
    "        for y in range(size):\n",
    "            if in_triangle(x, y):\n",
    "                im.putpixel((x, y), BLACK)\n",
    "    return im\n",
    "\n",
    "triangle(side=150, size=200)"
   ]
  },
  {
   "cell_type": "code",
   "execution_count": 58,
   "metadata": {},
   "outputs": [
    {
     "ename": "IndentationError",
     "evalue": "expected an indented block (<ipython-input-58-917643d82437>, line 9)",
     "output_type": "error",
     "traceback": [
      "\u001b[0;36m  File \u001b[0;32m\"<ipython-input-58-917643d82437>\"\u001b[0;36m, line \u001b[0;32m9\u001b[0m\n\u001b[0;31m    im = Image.new('RGB', (size, size), color='white')\u001b[0m\n\u001b[0m     ^\u001b[0m\n\u001b[0;31mIndentationError\u001b[0m\u001b[0;31m:\u001b[0m expected an indented block\n"
     ]
    }
   ],
   "source": [
    "# TODO: coloring\n",
    "\n",
    "def ellipse(a, b, size):\n",
    "    mid = size / 2 \n",
    "    im = Image.new('RGB', (size, size), color='white')\n",
    "    def in_ellipse(x, y):\n",
    "        # TODO: use (x**2)/a, (y**2)/b, x*y/c\n",
    "        pass\n",
    "    \n",
    "    im = Image.new('RGB', (size, size), color='white')\n",
    "    for x in range(size):\n",
    "        for y in range(size):\n",
    "            if in_ellipse(x, y):\n",
    "                im.putpixel((x, y), BLACK)\n",
    "    return im\n",
    "\n",
    "ellipse(side=150, size=200)"
   ]
  },
  {
   "cell_type": "markdown",
   "metadata": {},
   "source": [
    "-----\n",
    "\n",
    "# B) Polygon\n",
    "\n",
    "How:\n",
    "1) edges -> flood from a point -> possibly invert\n",
    "2) for each line: color point based on even/odd number of intersections of semiline with edges (so no need to draw edges separately)"
   ]
  },
  {
   "cell_type": "code",
   "execution_count": null,
   "metadata": {
    "collapsed": true
   },
   "outputs": [],
   "source": []
  },
  {
   "cell_type": "markdown",
   "metadata": {},
   "source": [
    "-----\n",
    "\n",
    "# C) Effects"
   ]
  },
  {
   "cell_type": "code",
   "execution_count": null,
   "metadata": {
    "collapsed": true
   },
   "outputs": [],
   "source": []
  },
  {
   "cell_type": "code",
   "execution_count": null,
   "metadata": {
    "collapsed": true
   },
   "outputs": [],
   "source": []
  }
 ],
 "metadata": {
  "kernelspec": {
   "display_name": "Python 3",
   "language": "python",
   "name": "python3"
  },
  "language_info": {
   "codemirror_mode": {
    "name": "ipython",
    "version": 3
   },
   "file_extension": ".py",
   "mimetype": "text/x-python",
   "name": "python",
   "nbconvert_exporter": "python",
   "pygments_lexer": "ipython3",
   "version": "3.6.1"
  }
 },
 "nbformat": 4,
 "nbformat_minor": 2
}
