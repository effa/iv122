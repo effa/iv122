{
 "cells": [
  {
   "cell_type": "markdown",
   "metadata": {},
   "source": [
    "# Probability"
   ]
  },
  {
   "cell_type": "code",
   "execution_count": 15,
   "metadata": {
    "collapsed": true
   },
   "outputs": [],
   "source": [
    "%matplotlib inline\n",
    "from collections import Counter, OrderedDict, defaultdict\n",
    "from functools import reduce, partial\n",
    "from itertools import count, combinations, islice\n",
    "from math import sqrt, pi, sin, cos, atan, radians, degrees\n",
    "from random import random, randint, choice\n",
    "from time import time\n",
    "import json\n",
    "import numpy as np\n",
    "import matplotlib.pyplot as plt\n",
    "import pandas as pd\n",
    "from PIL import Image, ImageDraw, ImageColor\n",
    "import seaborn as sns\n",
    "\n",
    "from drawing import VectorImage, Turtle, show_image"
   ]
  },
  {
   "cell_type": "markdown",
   "metadata": {},
   "source": [
    "-----\n",
    "\n",
    "# A) Girl/Boy Proportion Problem\n",
    "\n",
    "- All parents have a new child until a boy is born.\n",
    "- A new child is boy or girl with equal probability.\n",
    "- Start with the 50/50 proportion.\n",
    "- What will be the proportion of boys?\n",
    "\n",
    "Intuition: it should stay 50 %, because the probability of a new child is always 50 %. It can be also verified though geometric distribution, but instead, we will use a simulation to compute the proportion.\n",
    "\n",
    "I will assume that families are formed by a maximum matching (i.e. if there are 100 men and 90 women in the population, there will be 90 families). Due to a random variation in the number of born children, I guess this will cause a decreasing population (but the ratio should stay about 0.5 unless the population ceases to exist)."
   ]
  },
  {
   "cell_type": "code",
   "execution_count": 33,
   "metadata": {},
   "outputs": [
    {
     "data": {
      "text/plain": [
       "0.49615384615384617"
      ]
     },
     "execution_count": 33,
     "metadata": {},
     "output_type": "execute_result"
    }
   ],
   "source": [
    "GIRL, BOY = 0, 1\n",
    "\n",
    "def compute_proportion(n_people=1000, n_iter=50, p_boy=0.5):\n",
    "    populations = generate_populations(n_people, p_boy, n_iter)\n",
    "    population = list(populations)[-1]\n",
    "    return sum(population) / len(population) if population else 0\n",
    "\n",
    "def generate_populations(n_people=1000, p_boy=0.5, n_iter=50):\n",
    "    population = [choice([GIRL, BOY]) for _ in range(n_people)]\n",
    "    for _ in range(n_iter):\n",
    "        yield population\n",
    "        population = create_new_population(population, p_boy)\n",
    "\n",
    "def create_new_population(population, p_boy):\n",
    "    n_families = min(population.count(g) for g in [GIRL, BOY])\n",
    "    new_population = []\n",
    "    for _ in range(n_families):\n",
    "        child = None\n",
    "        while child != BOY:\n",
    "            child = BOY if random() < p_boy else GIRL\n",
    "            new_population.append(child)\n",
    "    return new_population\n",
    "         \n",
    "compute_proportion()"
   ]
  },
  {
   "cell_type": "markdown",
   "metadata": {},
   "source": [
    "Let's repeat the experiment multiple times to get a more reliable estimates:"
   ]
  },
  {
   "cell_type": "code",
   "execution_count": 34,
   "metadata": {},
   "outputs": [
    {
     "data": {
      "text/plain": [
       "count    100.000000\n",
       "mean       0.498361\n",
       "std        0.077518\n",
       "min        0.000000\n",
       "25%        0.474025\n",
       "50%        0.503001\n",
       "75%        0.531823\n",
       "max        0.666667\n",
       "dtype: float64"
      ]
     },
     "execution_count": 34,
     "metadata": {},
     "output_type": "execute_result"
    }
   ],
   "source": [
    "results = pd.Series([compute_proportion() for _ in range(100)])\n",
    "results.describe()"
   ]
  },
  {
   "cell_type": "markdown",
   "metadata": {},
   "source": [
    "We see that both the mean and median are close to 0.5. Let's plot a graph to see how much the population decrease over time:"
   ]
  },
  {
   "cell_type": "code",
   "execution_count": 40,
   "metadata": {},
   "outputs": [
    {
     "name": "stdout",
     "output_type": "stream",
     "text": [
      "Proportion over time:\n",
      "count    50.000000\n",
      "mean      0.503936\n",
      "std       0.029460\n",
      "min       0.427083\n",
      "25%       0.489004\n",
      "50%       0.503174\n",
      "75%       0.517800\n",
      "max       0.594059\n",
      "dtype: float64\n"
     ]
    },
    {
     "data": {
      "image/png": "[encoded data removed]",
      "text/plain": [
       "<matplotlib.figure.Figure at 0x7f211d2a3710>"
      ]
     },
     "metadata": {},
     "output_type": "display_data"
    }
   ],
   "source": [
    "def plot_generations(n_people=1000, n_iter=50, p_boy=0.5):\n",
    "    boys, girls = [], []\n",
    "    for population in generate_populations(n_people, p_boy, n_iter):\n",
    "        boys.append(population.count(BOY))\n",
    "        girls.append(population.count(GIRL))\n",
    "    df = pd.DataFrame({'boys': boys, 'girls': girls})\n",
    "    df.plot()\n",
    "    proportion = df.boys / (df.boys + df.girls)\n",
    "    print('Proportion over time:\\n' + str(proportion.describe()))\n",
    "    \n",
    "plot_generations()"
   ]
  },
  {
   "cell_type": "markdown",
   "metadata": {},
   "source": [
    "Now let's explore what happens when the we change the probability of a boy being born. If we increase the probability for boys, then the number of girls in the population will decrease more rapidly (the number of boys will then decrease in the same speed, but with a single generation delay):"
   ]
  },
  {
   "cell_type": "code",
   "execution_count": 44,
   "metadata": {},
   "outputs": [
    {
     "name": "stdout",
     "output_type": "stream",
     "text": [
      "Proportion over time:\n",
      "count    27.000000\n",
      "mean      0.569561\n",
      "std       0.112666\n",
      "min       0.466019\n",
      "25%       0.500000\n",
      "50%       0.539683\n",
      "75%       0.589476\n",
      "max       1.000000\n",
      "dtype: float64\n"
     ]
    },
    {
     "data": {
      "image/png": "[encoded data removed]",
      "text/plain": [
       "<matplotlib.figure.Figure at 0x7f211d2afb70>"
      ]
     },
     "metadata": {},
     "output_type": "display_data"
    }
   ],
   "source": [
    "plot_generations(n_people=1000, n_iter=50, p_boy=0.55)"
   ]
  },
  {
   "cell_type": "markdown",
   "metadata": {},
   "source": [
    "If we increase the probability for girl, than the size of the population will not decrease, because in every generation, there will be as many boys as there are families and even more girls. The number of girls will be constant+noise, where the constant could be easily computed using a geometric distribution."
   ]
  },
  {
   "cell_type": "code",
   "execution_count": 46,
   "metadata": {},
   "outputs": [
    {
     "name": "stdout",
     "output_type": "stream",
     "text": [
      "Proportion over time:\n",
      "count    50.000000\n",
      "mean      0.306115\n",
      "std       0.028011\n",
      "min       0.274620\n",
      "25%       0.297652\n",
      "50%       0.302167\n",
      "75%       0.308959\n",
      "max       0.488000\n",
      "dtype: float64\n"
     ]
    },
    {
     "data": {
      "image/png": "[encoded data removed]",
      "text/plain": [
       "<matplotlib.figure.Figure at 0x7f211d1f8668>"
      ]
     },
     "metadata": {},
     "output_type": "display_data"
    }
   ],
   "source": [
    "plot_generations(n_people=1000, n_iter=50, p_boy=0.3)"
   ]
  },
  {
   "cell_type": "markdown",
   "metadata": {},
   "source": [
    "-----\n",
    "\n",
    "# B) Nonrandom Numbers\n",
    "\n",
    "TODO:\n",
    "- ..."
   ]
  },
  {
   "cell_type": "code",
   "execution_count": 14,
   "metadata": {
    "scrolled": false
   },
   "outputs": [
    {
     "name": "stdout",
     "output_type": "stream",
     "text": [
      "random1:\n",
      "Counter({4: 834, 2: 834, 5: 833, 3: 833, 1: 833, 6: 833})\n",
      "distinct birgrams 36\n",
      "\n",
      "random2:\n",
      "Counter({5: 1244, 1: 856, 4: 845, 3: 829, 6: 798, 2: 428})\n",
      "distinct birgrams 36\n",
      "\n",
      "random3:\n",
      "Counter({6: 850, 3: 850, 2: 836, 4: 824, 5: 821, 1: 819})\n",
      "distinct birgrams 36\n",
      "\n",
      "random4:\n",
      "Counter({1: 852, 4: 850, 3: 829, 2: 827, 6: 823, 5: 819})\n",
      "distinct birgrams 18\n",
      "\n",
      "random5:\n",
      "Counter({6: 859, 4: 843, 5: 842, 2: 836, 3: 812, 1: 808})\n",
      "distinct birgrams 36\n",
      "\n",
      "random6:\n",
      "Counter({2: 851, 3: 849, 1: 849, 4: 846, 5: 803, 6: 802})\n",
      "distinct birgrams 36\n",
      "\n",
      "random7:\n",
      "Counter({2: 842, 1: 838, 4: 834, 5: 833, 6: 830, 3: 823})\n",
      "distinct birgrams 36\n",
      "\n"
     ]
    }
   ],
   "source": [
    "for i in range(1, 8):    \n",
    "    with open('random/random{0}.txt'.format(i)) as f:\n",
    "        numbers = list(map(int, f.read().split()))\n",
    "        print('random' + str(i) + ':')\n",
    "        # Analysis of frequences of numbers\n",
    "        print(Counter(numbers))\n",
    "        # Analysis of bigrams\n",
    "        bigrams = [\n",
    "            str(numbers[i]) + str(numbers[i+1])\n",
    "            for i in range(len(numbers)-1)]\n",
    "        print('distinct birgrams', len(set(bigrams)))\n",
    "        #print(Counter(bigrams))\n",
    "        print()\n",
    "        \n",
    "# Probably not random:\n",
    "# 1 ...\n",
    "# 2 (1-grams: 1244x number 5)\n",
    "# 4 (2-grams: only 18 from 36 possible pairs)\n",
    "# TODO: frequency in every 2nd/3rd numbers\n",
    "# TODO: Matrix of bigrams\n",
    "# TODO: nejldelsi posloupnost, ktera se opakuje N-krat (2-krat?)\n",
    "# TODO: ML approach - can we predict the last 30% of numbers"
   ]
  },
  {
   "cell_type": "code",
   "execution_count": 15,
   "metadata": {},
   "outputs": [
    {
     "data": {
      "text/plain": [
       "0.3761767290071545"
      ]
     },
     "execution_count": 15,
     "metadata": {},
     "output_type": "execute_result"
    }
   ],
   "source": [
    "6 * 999 / (6 * 999  + 9940)"
   ]
  },
  {
   "cell_type": "markdown",
   "metadata": {},
   "source": [
    "-----\n",
    "\n",
    "# D) Bayes Theorem\n",
    "\n",
    "Intuitive guesses for dice being fair:\n",
    "- 10 dice, 5 rols: 0.3\n",
    "- 100 dice, 3 rolls: 0.9 (should be 0.3)\n",
    "- 1000 dice, 5 rolls: 0.5\n",
    "\n",
    "Post comment: my intutition was absolutely wrong!"
   ]
  },
  {
   "cell_type": "code",
   "execution_count": 28,
   "metadata": {},
   "outputs": [
    {
     "name": "stdout",
     "output_type": "stream",
     "text": [
      "n=2 x=1 --> 0.14285714285714285\n",
      "n=10 x=5 --> 0.0011560693641618498\n",
      "n=100 x=3 --> 0.3142857142857143\n",
      "n=1000 x=5 --> 0.11384615384615385\n"
     ]
    }
   ],
   "source": [
    "# First, using Bayes Theorem:\n",
    "\n",
    "def compute_fair_probability(n_dice=100, n_rolls=3, n_faces=6):\n",
    "    \"\"\"Return probabilty of a dice taken randomly from a set\n",
    "       of n_dice being fake, given that only one is fake,\n",
    "       and given that we observe n_rolls of 6 in a row.\n",
    "    \"\"\"\n",
    "    fake_prior = 1 / n_dice\n",
    "    fake_conditional = 1\n",
    "    fake_likelihood = fake_prior * fake_conditional\n",
    "    \n",
    "    fair_prior = 1 - fake_prior\n",
    "    fair_conditional = 1 / (n_faces ** n_rolls)\n",
    "    fair_likelihood = fair_prior * fair_conditional\n",
    "    \n",
    "    observation_probability = fake_likelihood + fair_likelihood\n",
    "    fair_probability = fair_likelihood / observation_probability\n",
    "    return fair_probability\n",
    "    \n",
    "settings = [(2, 1), (10, 5), (100, 3), (1000, 5)]\n",
    "for n_dice, n_rolls in settings:\n",
    "    prob = compute_fair_probability(n_dice, n_rolls)\n",
    "    print('n={0} x={1} --> {2}'.format(n_dice, n_rolls, prob))"
   ]
  },
  {
   "cell_type": "code",
   "execution_count": 31,
   "metadata": {},
   "outputs": [
    {
     "name": "stdout",
     "output_type": "stream",
     "text": [
      "n=2 x=1 --> 0.14637024369388626\n",
      "n=10 x=5 --> 0.0014885382554331646\n",
      "n=100 x=3 --> 0.31288766368022053\n",
      "n=1000 x=5 --> 0.11818181818181818\n"
     ]
    }
   ],
   "source": [
    "def simulate_fair_probability(n_dice=100, n_rolls=3, n_faces=6,\n",
    "                              n_iter=100000):\n",
    "    \"\"\"The same as above, estimated by simulation.\n",
    "    \n",
    "    We will use simple rejection sampling.\n",
    "    \"\"\"\n",
    "    n_success, n_total = 0, 0\n",
    "    for i_iter in range(n_iter):\n",
    "        if randint(1, n_dice) == n_dice:\n",
    "            # fake dice\n",
    "            n_total += 1\n",
    "        else:\n",
    "            for i_roll in range(n_rolls):\n",
    "                if randint(1, n_faces) != n_faces:\n",
    "                    break\n",
    "            else:  # all rolls were 6\n",
    "                n_success += 1\n",
    "                n_total += 1    \n",
    "    return n_success / n_total\n",
    "    \n",
    "settings = [(2, 1), (10, 5), (100, 3), (1000, 5)]\n",
    "for n_dice, n_rolls in settings:\n",
    "    prob = simulate_fair_probability(n_dice, n_rolls)\n",
    "    print('n={0} x={1} --> {2}'.format(n_dice, n_rolls, prob))"
   ]
  },
  {
   "cell_type": "code",
   "execution_count": null,
   "metadata": {
    "collapsed": true
   },
   "outputs": [],
   "source": []
  },
  {
   "cell_type": "code",
   "execution_count": null,
   "metadata": {
    "collapsed": true
   },
   "outputs": [],
   "source": []
  },
  {
   "cell_type": "code",
   "execution_count": null,
   "metadata": {
    "collapsed": true
   },
   "outputs": [],
   "source": []
  },
  {
   "cell_type": "code",
   "execution_count": null,
   "metadata": {
    "collapsed": true
   },
   "outputs": [],
   "source": []
  },
  {
   "cell_type": "code",
   "execution_count": null,
   "metadata": {
    "collapsed": true
   },
   "outputs": [],
   "source": []
  },
  {
   "cell_type": "code",
   "execution_count": null,
   "metadata": {
    "collapsed": true
   },
   "outputs": [],
   "source": []
  },
  {
   "cell_type": "code",
   "execution_count": null,
   "metadata": {
    "collapsed": true
   },
   "outputs": [],
   "source": []
  },
  {
   "cell_type": "code",
   "execution_count": null,
   "metadata": {
    "collapsed": true
   },
   "outputs": [],
   "source": []
  },
  {
   "cell_type": "code",
   "execution_count": null,
   "metadata": {
    "collapsed": true
   },
   "outputs": [],
   "source": []
  },
  {
   "cell_type": "code",
   "execution_count": null,
   "metadata": {
    "collapsed": true
   },
   "outputs": [],
   "source": []
  },
  {
   "cell_type": "code",
   "execution_count": null,
   "metadata": {
    "collapsed": true
   },
   "outputs": [],
   "source": []
  },
  {
   "cell_type": "code",
   "execution_count": null,
   "metadata": {
    "collapsed": true
   },
   "outputs": [],
   "source": []
  }
 ],
 "metadata": {
  "kernelspec": {
   "display_name": "Python 3",
   "language": "python",
   "name": "python3"
  },
  "language_info": {
   "codemirror_mode": {
    "name": "ipython",
    "version": 3
   },
   "file_extension": ".py",
   "mimetype": "text/x-python",
   "name": "python",
   "nbconvert_exporter": "python",
   "pygments_lexer": "ipython3",
   "version": "3.5.3"
  }
 },
 "nbformat": 4,
 "nbformat_minor": 2
}
