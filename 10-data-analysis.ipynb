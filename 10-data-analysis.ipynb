{
 "cells": [
  {
   "cell_type": "markdown",
   "metadata": {},
   "source": [
    "# Data Analysis"
   ]
  },
  {
   "cell_type": "code",
   "execution_count": 13,
   "metadata": {
    "collapsed": true
   },
   "outputs": [],
   "source": [
    "%matplotlib inline\n",
    "from collections import Counter, OrderedDict, defaultdict\n",
    "from functools import reduce, partial\n",
    "from itertools import count, combinations\n",
    "from math import sqrt, pi, sin, cos, atan, radians, degrees, inf\n",
    "from random import random, randint, choice\n",
    "from time import time\n",
    "import json\n",
    "import numpy as np\n",
    "import matplotlib.pyplot as plt\n",
    "import pandas as pd\n",
    "from PIL import Image, ImageDraw, ImageColor\n",
    "import seaborn as sns\n",
    "\n",
    "from drawing import VectorImage, Turtle, show_image"
   ]
  },
  {
   "cell_type": "markdown",
   "metadata": {},
   "source": [
    "-----\n",
    "\n",
    "# A) Linear Regression\n",
    "\n",
    "TODO:\n",
    "- other methods for linear regression\n",
    "- plot with our learned line and the true line"
   ]
  },
  {
   "cell_type": "code",
   "execution_count": 107,
   "metadata": {},
   "outputs": [],
   "source": [
    "def generate_linear_data(a, b, stdev=1, n_points=100, min_x=-2, max_x=2):\n",
    "    data = []\n",
    "    for i in range(n_points):\n",
    "        x = np.random.uniform(min_x, max_x)\n",
    "        noise = np.random.normal(0, stdev)\n",
    "        y = a * x + b + noise\n",
    "        data.append((x, y))        \n",
    "    return to_df(data)\n",
    "\n",
    "def read_data(filename, as_df=True):\n",
    "    with open('data/{0}'.format(filename)) as f:\n",
    "        lines = f.read().split('\\n')\n",
    "        data = [tuple(map(float, line.split()))\n",
    "                for line in lines if line]\n",
    "    if as_df:\n",
    "        return pd.DataFrame(data, columns=['x', 'y'])\n",
    "    return data\n",
    "\n",
    "def to_df(data_list):\n",
    "    return pd.DataFrame(data_list, columns=['x', 'y'])"
   ]
  },
  {
   "cell_type": "code",
   "execution_count": 108,
   "metadata": {},
   "outputs": [],
   "source": [
    "df1 = read_data('linreg.txt', as_df=True)\n",
    "df2 = read_data('faithful.txt', as_df=True)\n",
    "df3 = generate_linear_data(a=2, b=1)"
   ]
  },
  {
   "cell_type": "markdown",
   "metadata": {},
   "source": [
    "### Linear Regression for Linear Data"
   ]
  },
  {
   "cell_type": "code",
   "execution_count": 109,
   "metadata": {},
   "outputs": [
    {
     "data": {
      "text/plain": [
       "<seaborn.axisgrid.FacetGrid at 0x7ff955c7eba8>"
      ]
     },
     "execution_count": 109,
     "metadata": {},
     "output_type": "execute_result"
    },
    {
     "data": {
      "image/png": "[encoded data removed]",
      "text/plain": [
       "<matplotlib.figure.Figure at 0x7ff955cbc4a8>"
      ]
     },
     "metadata": {},
     "output_type": "display_data"
    }
   ],
   "source": [
    "sns.lmplot(x='x', y='y', data=df3)"
   ]
  },
  {
   "cell_type": "code",
   "execution_count": 110,
   "metadata": {},
   "outputs": [
    {
     "name": "stdout",
     "output_type": "stream",
     "text": [
      "y = 1.97x + 1.10 ---> rmse=1.01\n"
     ]
    }
   ],
   "source": [
    "def grid_search(df, steps=10, a_min=-1, a_max=1, b_min=-1, b_max=1):\n",
    "    best_error, best_a, best_b = inf, None, None\n",
    "    for a in np.linspace(a_min, a_max, num=steps):\n",
    "        for b in np.linspace(b_min, b_max, num=steps):\n",
    "            error = evaluate(a, b, df)\n",
    "            if error < best_error:\n",
    "                best_error, best_a, best_b = error, a, b\n",
    "    return best_a, best_b, best_error\n",
    "\n",
    "def evaluate(a, b, df):\n",
    "    sqerror = ([error(a, b, point) for point in df.itertuples()])\n",
    "    rmse = sqrt(np.mean(sqerror))\n",
    "    return rmse\n",
    "\n",
    "def error(a, b, point):\n",
    "    py = a * point.x + b\n",
    "    return (point.y - py) ** 2\n",
    "\n",
    "def print_results(a, b, error):\n",
    "    print('y = {a:.2f}x + {b:.2f} ---> rmse={e:.2f}'\n",
    "          .format(a=a, b=b, e=error))\n",
    "\n",
    "abe = grid_search(df3, a_min=1, a_max=5, b_min=0, b_max=2, steps=30)\n",
    "print_results(*abe)"
   ]
  },
  {
   "cell_type": "code",
   "execution_count": 128,
   "metadata": {},
   "outputs": [
    {
     "data": {
      "text/plain": [
       "(1.9770775223263193, 1.1185524504716633)"
      ]
     },
     "execution_count": 128,
     "metadata": {},
     "output_type": "execute_result"
    }
   ],
   "source": [
    "def analytic_solution(df):\n",
    "    n, x, y = len(df), df.x, df.y\n",
    "    a = ((n * sum(x*y) - sum(x)*sum(y))\n",
    "         / (n * sum(x**2) - sum(x)**2))\n",
    "    b = np.mean(y) - a * np.mean(x)\n",
    "    return a, b\n",
    "\n",
    "analytic_solution(df3)"
   ]
  },
  {
   "cell_type": "markdown",
   "metadata": {},
   "source": [
    "### Provided Linear Data"
   ]
  },
  {
   "cell_type": "code",
   "execution_count": 32,
   "metadata": {},
   "outputs": [
    {
     "data": {
      "text/plain": [
       "<seaborn.axisgrid.FacetGrid at 0x7ff955fa6fd0>"
      ]
     },
     "execution_count": 32,
     "metadata": {},
     "output_type": "execute_result"
    },
    {
     "data": {
      "image/png": "[encoded data removed]",
      "text/plain": [
       "<matplotlib.figure.Figure at 0x7ff955fa6e80>"
      ]
     },
     "metadata": {},
     "output_type": "display_data"
    }
   ],
   "source": [
    "sns.lmplot(x='x', y='y', data=df1)"
   ]
  },
  {
   "cell_type": "code",
   "execution_count": 105,
   "metadata": {},
   "outputs": [
    {
     "name": "stdout",
     "output_type": "stream",
     "text": [
      "y = 2.38x + 1.45 ---> rmse=1.01\n"
     ]
    }
   ],
   "source": [
    "abe = grid_search(df1, a_min=1, a_max=5, b_min=0, b_max=2, steps=30)\n",
    "print_results(*abe)"
   ]
  },
  {
   "cell_type": "markdown",
   "metadata": {},
   "source": [
    "### Old Faithful"
   ]
  },
  {
   "cell_type": "code",
   "execution_count": 73,
   "metadata": {},
   "outputs": [
    {
     "data": {
      "text/plain": [
       "<seaborn.axisgrid.FacetGrid at 0x7ff955dc6160>"
      ]
     },
     "execution_count": 73,
     "metadata": {},
     "output_type": "execute_result"
    },
    {
     "data": {
      "image/png": "[encoded data removed]",
      "text/plain": [
       "<matplotlib.figure.Figure at 0x7ff955dc6f60>"
      ]
     },
     "metadata": {},
     "output_type": "display_data"
    }
   ],
   "source": [
    "sns.lmplot(x='x', y='y', data=df2)"
   ]
  },
  {
   "cell_type": "code",
   "execution_count": 80,
   "metadata": {},
   "outputs": [
    {
     "name": "stdout",
     "output_type": "stream",
     "text": [
      "y = 10.69x + 33.79 ---> rmse=5.90\n"
     ]
    }
   ],
   "source": [
    "abe = grid_search(df2, a_min=5, a_max=20, b_min=20, b_max=40, steps=30)\n",
    "print_results(*abe)"
   ]
  },
  {
   "cell_type": "markdown",
   "metadata": {},
   "source": [
    "-----\n",
    "\n",
    "# B) Clusters Detections"
   ]
  },
  {
   "cell_type": "code",
   "execution_count": null,
   "metadata": {
    "collapsed": true
   },
   "outputs": [],
   "source": []
  },
  {
   "cell_type": "code",
   "execution_count": null,
   "metadata": {
    "collapsed": true
   },
   "outputs": [],
   "source": []
  },
  {
   "cell_type": "code",
   "execution_count": null,
   "metadata": {
    "collapsed": true
   },
   "outputs": [],
   "source": []
  },
  {
   "cell_type": "code",
   "execution_count": null,
   "metadata": {
    "collapsed": true
   },
   "outputs": [],
   "source": []
  },
  {
   "cell_type": "code",
   "execution_count": null,
   "metadata": {
    "collapsed": true
   },
   "outputs": [],
   "source": []
  },
  {
   "cell_type": "code",
   "execution_count": null,
   "metadata": {
    "collapsed": true
   },
   "outputs": [],
   "source": []
  },
  {
   "cell_type": "code",
   "execution_count": null,
   "metadata": {
    "collapsed": true
   },
   "outputs": [],
   "source": []
  },
  {
   "cell_type": "code",
   "execution_count": null,
   "metadata": {
    "collapsed": true
   },
   "outputs": [],
   "source": []
  },
  {
   "cell_type": "code",
   "execution_count": null,
   "metadata": {
    "collapsed": true
   },
   "outputs": [],
   "source": []
  },
  {
   "cell_type": "code",
   "execution_count": null,
   "metadata": {
    "collapsed": true
   },
   "outputs": [],
   "source": []
  },
  {
   "cell_type": "code",
   "execution_count": null,
   "metadata": {
    "collapsed": true
   },
   "outputs": [],
   "source": []
  },
  {
   "cell_type": "code",
   "execution_count": null,
   "metadata": {
    "collapsed": true
   },
   "outputs": [],
   "source": []
  }
 ],
 "metadata": {
  "kernelspec": {
   "display_name": "Python 3",
   "language": "python",
   "name": "python3"
  },
  "language_info": {
   "codemirror_mode": {
    "name": "ipython",
    "version": 3
   },
   "file_extension": ".py",
   "mimetype": "text/x-python",
   "name": "python",
   "nbconvert_exporter": "python",
   "pygments_lexer": "ipython3",
   "version": "3.6.1"
  }
 },
 "nbformat": 4,
 "nbformat_minor": 2
}
