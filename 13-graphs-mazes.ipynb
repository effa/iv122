{
 "cells": [
  {
   "cell_type": "markdown",
   "metadata": {},
   "source": [
    "# Graphs and Mazes"
   ]
  },
  {
   "cell_type": "code",
   "execution_count": 1,
   "metadata": {
    "collapsed": true
   },
   "outputs": [],
   "source": [
    "%load_ext autoreload\n",
    "%autoreload 2\n",
    "%matplotlib inline"
   ]
  },
  {
   "cell_type": "code",
   "execution_count": 2,
   "metadata": {
    "collapsed": true
   },
   "outputs": [],
   "source": [
    "from collections import OrderedDict, deque, defaultdict, namedtuple\n",
    "from itertools import product\n",
    "from math import sqrt, pi, sin, cos\n",
    "from random import random, randint, choice\n",
    "import numpy as np\n",
    "import matplotlib.pyplot as plt\n",
    "import pandas as pd\n",
    "import seaborn as sns\n",
    "from drawing import VectorImage"
   ]
  },
  {
   "cell_type": "markdown",
   "metadata": {},
   "source": [
    "-----\n",
    "\n",
    "# A) Number Maze"
   ]
  },
  {
   "cell_type": "markdown",
   "metadata": {},
   "source": [
    "To say if there is a unique shortest solution, we use a modification of BFS that explores by whole layers of positions in the same depth instead of by a single position and for each postion, it remembers all its parents (on the shortest path from the start). If any position on a shortest path between the start and the goal has multiple parents, then tha solution is not unique. *(I wonder if there is a simpler approach.)*"
   ]
  },
  {
   "cell_type": "code",
   "execution_count": 75,
   "metadata": {},
   "outputs": [
    {
     "name": "stdout",
     "output_type": "stream",
     "text": [
      "Solution: [(0, 0), (2, 0), (2, 3), (1, 3), (1, 1), (1, 4), (4, 4)]\n",
      "Unique: True\n"
     ]
    }
   ],
   "source": [
    "def solve_number_maze(maze, print_results=True):\n",
    "    maze = np.matrix(maze)\n",
    "    dirs = list(map(np.array, [(1, 0), (0, 1), (-1, 0), (0, -1)]))\n",
    "    start = (0, 0)\n",
    "    goal = (maze.shape[0] - 1, maze.shape[1] - 1)\n",
    "    # As we process whole layers, we can use list to store the queue.\n",
    "    queue = [start]\n",
    "    # For each position we store all of its parents on a shortes path.\n",
    "    parents = defaultdict(list)\n",
    "    parents[start] = [None]\n",
    "    solution = None\n",
    "    while queue and not solution:\n",
    "        next_layer = []\n",
    "        # Freeze previously seen positions.\n",
    "        seen = set(parents.keys())\n",
    "        for pos in queue:\n",
    "            for direction in dirs:\n",
    "                next_pos = get_next_pos(maze, pos, direction)\n",
    "                if not next_pos or next_pos in seen:\n",
    "                    continue\n",
    "                next_layer.append(next_pos)\n",
    "                parents[next_pos].append(pos)\n",
    "        if goal in next_layer:\n",
    "            solution, unique = get_path(goal, parents, ret_unique=True)\n",
    "        queue = next_layer\n",
    "    if print_results:\n",
    "        print('Solution:', solution)\n",
    "        print('Unique:', unique)\n",
    "    else:\n",
    "        return solution, unique\n",
    "\n",
    "def get_next_pos(maze, pos, direction):\n",
    "    length = maze[pos]\n",
    "    next_pos = length * direction + pos\n",
    "    if any(next_pos < (0, 0)) or any(next_pos >= maze.shape):\n",
    "        return None  # out of the maze\n",
    "    return tuple(next_pos)\n",
    "\n",
    "def get_path(pos, parents, ret_unique=False):\n",
    "    backpath = []\n",
    "    unique = True\n",
    "    while pos:\n",
    "        backpath.append(pos)\n",
    "        unique = unique and len(parents[pos]) == 1\n",
    "        pos = parents[pos][0]\n",
    "    path = list(reversed(backpath))\n",
    "    return path, unique if ret_unique else path\n",
    "\n",
    "solve_number_maze(\n",
    "    [[2, 4, 4, 3, 3],\n",
    "     [2, 3, 3, 2, 3],\n",
    "     [3, 2, 3, 1, 3],\n",
    "     [2, 2, 3, 2, 1],\n",
    "     [1, 4, 4, 4, 0]])"
   ]
  },
  {
   "cell_type": "code",
   "execution_count": 79,
   "metadata": {},
   "outputs": [
    {
     "name": "stdout",
     "output_type": "stream",
     "text": [
      "Solution: [(0, 0), (1, 0), (1, 1)]\n",
      "Unique: False\n"
     ]
    }
   ],
   "source": [
    "solve_number_maze([[1, 1], [1, 0]])"
   ]
  },
  {
   "cell_type": "code",
   "execution_count": 77,
   "metadata": {},
   "outputs": [
    {
     "name": "stdout",
     "output_type": "stream",
     "text": [
      "Solution: [(0, 0), (3, 0), (3, 2), (4, 2), (4, 4)]\n",
      "Unique: True\n"
     ]
    }
   ],
   "source": [
    "solve_number_maze(\n",
    "    [[3, 4, 3, 2, 2],\n",
    "     [4, 4, 2, 2, 4],\n",
    "     [4, 3, 1, 4, 2],\n",
    "     [2, 1, 1, 3, 3],\n",
    "     [1, 4, 2, 3, 0]])"
   ]
  },
  {
   "cell_type": "code",
   "execution_count": 78,
   "metadata": {},
   "outputs": [
    {
     "name": "stdout",
     "output_type": "stream",
     "text": [
      "Solution: [(0, 0), (1, 0), (3, 0), (3, 3), (0, 3), (1, 3), (4, 3), (2, 3), (2, 1), (2, 4), (2, 0), (4, 0), (4, 2), (4, 4)]\n",
      "Unique: True\n"
     ]
    }
   ],
   "source": [
    "solve_number_maze(\n",
    "    [[1, 4, 2, 1, 1],\n",
    "     [2, 4, 2, 3, 2],\n",
    "     [2, 3, 4, 2, 4],\n",
    "     [3, 3, 3, 3, 2],\n",
    "     [2, 4, 2, 2, 0]])"
   ]
  },
  {
   "cell_type": "markdown",
   "metadata": {},
   "source": [
    "To check if my BFS implementation (uniqueness decision) is correct, I compared the results a brute force solution to the problem:"
   ]
  },
  {
   "cell_type": "code",
   "execution_count": 86,
   "metadata": {},
   "outputs": [
    {
     "data": {
      "text/plain": [
       "[[(0, 0), (3, 0), (3, 2), (4, 2), (4, 4)]]"
      ]
     },
     "execution_count": 86,
     "metadata": {},
     "output_type": "execute_result"
    }
   ],
   "source": [
    "def brute_force_number_maze(maze):\n",
    "    maze = np.matrix(maze)\n",
    "    dirs = list(map(np.array, [(1, 0), (0, 1), (-1, 0), (0, -1)]))\n",
    "    goal = (maze.shape[0] - 1, maze.shape[1] - 1)\n",
    "    solutions = []\n",
    "    for length in range(1, maze.shape[0] * maze.shape[1]):\n",
    "        for path_dirs in product(dirs, repeat=length):\n",
    "            path = create_path(maze, path_dirs)\n",
    "            if path and path[-1] == goal:\n",
    "                solutions.append(path)\n",
    "        if solutions:\n",
    "            return solutions\n",
    "\n",
    "def create_path(maze, dirs):\n",
    "    path = [(0, 0)]\n",
    "    for direction in dirs:\n",
    "        next_pos = get_next_pos(maze, path[-1], direction)\n",
    "        if not next_pos:\n",
    "            return None\n",
    "        path.append(next_pos)\n",
    "    return path\n",
    "                \n",
    "brute_force_number_maze(\n",
    "    [[3, 4, 3, 2, 2],\n",
    "     [4, 4, 2, 2, 4],\n",
    "     [4, 3, 1, 4, 2],\n",
    "     [2, 1, 1, 3, 3],\n",
    "     [1, 4, 2, 3, 0]])"
   ]
  },
  {
   "cell_type": "markdown",
   "metadata": {},
   "source": [
    "## B: Quantum Maze\n",
    "\n",
    "Goal: get from the bottom-left to the top-right corner.\n",
    "\n",
    "Representation of states: current position, set of walls.\n",
    "\n",
    "TODO: visualizations (see bellow)\n",
    "\n",
    "Visualizations:\n",
    "- static (final maze + path)\n",
    "- static + time as the darkness/alpha\n",
    "- widget to go through time\n",
    "- animation in time for export"
   ]
  },
  {
   "cell_type": "code",
   "execution_count": 17,
   "metadata": {},
   "outputs": [
    {
     "data": {
      "image/png": "[encoded data removed]",
      "text/plain": [
       "<matplotlib.figure.Figure at 0x7f8664d22cf8>"
      ]
     },
     "metadata": {},
     "output_type": "display_data"
    }
   ],
   "source": [
    "def draw_state(state, im=None, linewidth=3):\n",
    "    im = im or VectorImage()\n",
    "    n = state.size\n",
    "    corners = [(0, 0), (0, n), (n, n), (n, 0)]\n",
    "    for i in range(4):\n",
    "        im.line(corners[i], corners[(i+1)%4], linewidth=linewidth)\n",
    "    im.lines(state.walls, linewidth=linewidth)\n",
    "    real_pos = np.array([0.5, 0.5]) + state.pos\n",
    "    im.point(real_pos, color='r', markersize=15)\n",
    "\n",
    "\n",
    "State = namedtuple('State', ['pos', 'walls', 'size'])\n",
    "state = State(pos=(0, 0), size=5,\n",
    "              walls={((0, 1), (1, 1)), ((1, 1), (1, 2))})\n",
    "draw_state(state)"
   ]
  },
  {
   "cell_type": "code",
   "execution_count": 18,
   "metadata": {},
   "outputs": [
    {
     "data": {
      "image/png": "[encoded data removed]",
      "text/plain": [
       "<matplotlib.figure.Figure at 0x7f8664c59630>"
      ]
     },
     "metadata": {},
     "output_type": "display_data"
    }
   ],
   "source": [
    "def draw_solution(states, im=None, linewidth=3):\n",
    "    im = im or VectorImage()\n",
    "    for state in states:\n",
    "        draw_state(state, im=im)\n",
    "\n",
    "s1 = State(pos=(0,0), size=5, walls={})\n",
    "s2 = State(pos=(1,0), size=5, walls={((0,1), (1,1))})\n",
    "s3 = State(pos=(1,1), size=5, walls={((0,1), (1,1)), ((1,1), (1,2))})\n",
    "draw_solution([s1, s2, s3])"
   ]
  },
  {
   "cell_type": "code",
   "execution_count": 92,
   "metadata": {},
   "outputs": [
    {
     "data": {
      "image/png": "[encoded data removed]",
      "text/plain": [
       "<matplotlib.figure.Figure at 0x7f8664de5fd0>"
      ]
     },
     "metadata": {},
     "output_type": "display_data"
    }
   ],
   "source": [
    "def create_next_state(state, direction):\n",
    "    # Set main and orthogonal (left and right) directions\n",
    "    d = np.array(direction)\n",
    "    dl = np.array([-direction[1], direction[0]])\n",
    "    dr = -dl\n",
    "    pos = tuple(d + state.pos)\n",
    "    # Real position is shifted:\n",
    "    p = np.array([0.5, 0.5]) + pos\n",
    "    walls = set(state.walls)\n",
    "    crossed_edge = normalize((p - 0.5*d + 0.5*dl, p - 0.5*d + 0.5*dr))\n",
    "    if crossed_edge in walls:\n",
    "        return None\n",
    "    # Add new walls:\n",
    "    front_wall = (p + 1.5*d + 0.5*dl, p + 1.5*d + 0.5*dr)\n",
    "    left_wall = (p + 0.5*d + 1.5*dl, p + 1.5*d + 1.5*dl)\n",
    "    right_wall = (p + 0.5*d + 1.5*dr, p + 1.5*d + 1.5*dr)\n",
    "    # Filter walls outside the maze (and normalize them).\n",
    "    new_walls = [\n",
    "        normalize(wall)\n",
    "        for wall in [front_wall, left_wall, right_wall]\n",
    "        if is_wall_in_maze(wall, state.size)]    \n",
    "    walls.update(new_walls)        \n",
    "    next_state = State(\n",
    "        pos=pos, walls=tuple(sorted(walls)), size=state.size)\n",
    "    return next_state\n",
    "\n",
    "def normalize(wall):\n",
    "    return tuple(sorted((int(x), int(y)) for x, y in wall))\n",
    "\n",
    "def is_wall_in_maze(wall, size):\n",
    "    coords = [n for point in wall for n in point]\n",
    "    return min(coords) >= 0 and max(coords) <= size\n",
    "\n",
    "draw_state(create_next_state(s3, (1, 0)))"
   ]
  },
  {
   "cell_type": "code",
   "execution_count": 95,
   "metadata": {
    "scrolled": false
   },
   "outputs": [
    {
     "data": {
      "image/png": "[encoded data removed]",
      "text/plain": [
       "<matplotlib.figure.Figure at 0x7f8664ef9e48>"
      ]
     },
     "metadata": {},
     "output_type": "display_data"
    }
   ],
   "source": [
    "def solve_quantum_maze(size=3, max_steps=10000):\n",
    "    dirs = [(1, 0), (0, 1), (-1, 0), (0, -1)]\n",
    "    # Add borders to initial set of edges:\n",
    "    walls = set()\n",
    "    for i in range(size):\n",
    "        walls.add(((0, i), (0, i+1)))\n",
    "        walls.add(((size, i), (size, i+1)))\n",
    "        walls.add(((i, 0), (i+1, 0)))\n",
    "        walls.add(((i, size), (i+1, size)))\n",
    "    start = State(pos=(0,0), walls=tuple(sorted(walls)), size=size)\n",
    "    goal = (size - 1, size - 1)\n",
    "    queue = deque([start])\n",
    "    parents = {}\n",
    "    parents[start] = None\n",
    "    for i_step in range(max_steps):\n",
    "        if not queue:\n",
    "            print('No solution exists.')\n",
    "            return\n",
    "        next_layer = []\n",
    "        state = queue.popleft()\n",
    "        if state.pos == goal:\n",
    "            return get_path(state, parents)\n",
    "        for direction in dirs:\n",
    "            next_state = create_next_state(state, direction)\n",
    "            if not next_state or next_state in parents:\n",
    "                continue\n",
    "            queue.append(next_state)\n",
    "            parents[next_state] = state\n",
    "    print('Step limit exceeded.')\n",
    "    \n",
    "def get_path(state, parents):\n",
    "    backpath = []\n",
    "    while state:\n",
    "        backpath.append(state)\n",
    "        state = parents[state]\n",
    "    return list(reversed(backpath))\n",
    "\n",
    "draw_solution(solve_quantum_maze(size=3))"
   ]
  },
  {
   "cell_type": "code",
   "execution_count": 96,
   "metadata": {},
   "outputs": [
    {
     "data": {
      "image/png": "[encoded data removed]",
      "text/plain": [
       "<matplotlib.figure.Figure at 0x7f8664b97ac8>"
      ]
     },
     "metadata": {},
     "output_type": "display_data"
    }
   ],
   "source": [
    "draw_solution(solve_quantum_maze(size=4))"
   ]
  },
  {
   "cell_type": "code",
   "execution_count": null,
   "metadata": {
    "collapsed": true
   },
   "outputs": [],
   "source": []
  },
  {
   "cell_type": "code",
   "execution_count": null,
   "metadata": {
    "collapsed": true
   },
   "outputs": [],
   "source": []
  },
  {
   "cell_type": "code",
   "execution_count": null,
   "metadata": {
    "collapsed": true
   },
   "outputs": [],
   "source": []
  },
  {
   "cell_type": "code",
   "execution_count": null,
   "metadata": {
    "collapsed": true
   },
   "outputs": [],
   "source": []
  },
  {
   "cell_type": "code",
   "execution_count": null,
   "metadata": {
    "collapsed": true
   },
   "outputs": [],
   "source": []
  },
  {
   "cell_type": "code",
   "execution_count": null,
   "metadata": {
    "collapsed": true
   },
   "outputs": [],
   "source": []
  },
  {
   "cell_type": "code",
   "execution_count": null,
   "metadata": {
    "collapsed": true
   },
   "outputs": [],
   "source": []
  },
  {
   "cell_type": "code",
   "execution_count": null,
   "metadata": {
    "collapsed": true
   },
   "outputs": [],
   "source": []
  },
  {
   "cell_type": "code",
   "execution_count": null,
   "metadata": {
    "collapsed": true
   },
   "outputs": [],
   "source": []
  }
 ],
 "metadata": {
  "kernelspec": {
   "display_name": "Python 3",
   "language": "python",
   "name": "python3"
  },
  "language_info": {
   "codemirror_mode": {
    "name": "ipython",
    "version": 3
   },
   "file_extension": ".py",
   "mimetype": "text/x-python",
   "name": "python",
   "nbconvert_exporter": "python",
   "pygments_lexer": "ipython3",
   "version": "3.6.3"
  }
 },
 "nbformat": 4,
 "nbformat_minor": 2
}
