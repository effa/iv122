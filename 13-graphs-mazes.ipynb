{
 "cells": [
  {
   "cell_type": "markdown",
   "metadata": {},
   "source": [
    "# Graphs and Mazes"
   ]
  },
  {
   "cell_type": "code",
   "execution_count": 41,
   "metadata": {
    "collapsed": true
   },
   "outputs": [],
   "source": [
    "%matplotlib inline\n",
    "from collections import OrderedDict, deque, defaultdict\n",
    "from math import sqrt, pi, sin, cos\n",
    "from random import random, randint, choice\n",
    "import numpy as np\n",
    "import matplotlib.pyplot as plt\n",
    "import pandas as pd\n",
    "import seaborn as sns"
   ]
  },
  {
   "cell_type": "markdown",
   "metadata": {},
   "source": [
    "-----\n",
    "\n",
    "# A) Number Maze"
   ]
  },
  {
   "cell_type": "markdown",
   "metadata": {},
   "source": [
    "To say if there is a unique shortest solution, we use a modification of BFS that explores by whole layers of positions in the same depth instead of by a single position and for each postion, it remembers all its parents (on the shortest path from the start). If any position on a shortest path between the start and the goal has multiple parents, then tha solution is not unique. *(I wonder if there is a simpler approach.)*"
   ]
  },
  {
   "cell_type": "code",
   "execution_count": 75,
   "metadata": {},
   "outputs": [
    {
     "name": "stdout",
     "output_type": "stream",
     "text": [
      "Solution: [(0, 0), (2, 0), (2, 3), (1, 3), (1, 1), (1, 4), (4, 4)]\n",
      "Unique: True\n"
     ]
    }
   ],
   "source": [
    "def solve_number_maze(maze, print_results=True):\n",
    "    maze = np.matrix(maze)\n",
    "    dirs = list(map(np.array, [(1, 0), (0, 1), (-1, 0), (0, -1)]))\n",
    "    start = (0, 0)\n",
    "    goal = (maze.shape[0] - 1, maze.shape[1] - 1)\n",
    "    # As we process whole layers, we can use list to store the queue.\n",
    "    queue = [start]\n",
    "    # For each position we store all of its parents on a shortes path.\n",
    "    parents = defaultdict(list)\n",
    "    parents[start] = [None]\n",
    "    solution = None\n",
    "    while queue and not solution:\n",
    "        next_layer = []\n",
    "        # Freeze previously seen positions.\n",
    "        seen = set(parents.keys())\n",
    "        for pos in queue:\n",
    "            for direction in dirs:\n",
    "                next_pos = get_next_pos(maze, pos, direction)\n",
    "                if not next_pos or next_pos in seen:\n",
    "                    continue\n",
    "                next_layer.append(next_pos)\n",
    "                parents[next_pos].append(pos)\n",
    "        if goal in next_layer:\n",
    "            solution, unique = get_path(goal, parents)\n",
    "        queue = next_layer\n",
    "    if print_results:\n",
    "        print('Solution:', solution)\n",
    "        print('Unique:', unique)\n",
    "    else:\n",
    "        return solution, unique\n",
    "\n",
    "def get_next_pos(maze, pos, direction):\n",
    "    length = maze[pos]\n",
    "    next_pos = length * direction + pos\n",
    "    if any(next_pos < (0, 0)) or any(next_pos >= maze.shape):\n",
    "        return None  # out of the maze\n",
    "    return tuple(next_pos)\n",
    "\n",
    "def get_path(pos, parents):\n",
    "    backpath = []\n",
    "    unique = True\n",
    "    while pos:\n",
    "        backpath.append(pos)\n",
    "        unique = unique and len(parents[pos]) == 1\n",
    "        pos = parents[pos][0]\n",
    "    return list(reversed(backpath)), unique\n",
    "\n",
    "solve_number_maze(\n",
    "    [[2, 4, 4, 3, 3],\n",
    "     [2, 3, 3, 2, 3],\n",
    "     [3, 2, 3, 1, 3],\n",
    "     [2, 2, 3, 2, 1],\n",
    "     [1, 4, 4, 4, 0]])"
   ]
  },
  {
   "cell_type": "code",
   "execution_count": null,
   "metadata": {
    "collapsed": true
   },
   "outputs": [],
   "source": []
  },
  {
   "cell_type": "markdown",
   "metadata": {},
   "source": [
    "## B: Quantum Maze\n",
    "\n",
    "Goal? start with theh goal to visit to bottom left corner.\n",
    "\n",
    "Visualizations:\n",
    "- static (path\n",
    "\n",
    "TODO: nice visualization (the one from the workshop?, networkx?, heatmaps?)\n",
    "\n",
    "quantum maze (widget + animation for export)\n",
    "lamps\n",
    "minotaur"
   ]
  },
  {
   "cell_type": "code",
   "execution_count": null,
   "metadata": {
    "collapsed": true
   },
   "outputs": [],
   "source": []
  },
  {
   "cell_type": "code",
   "execution_count": null,
   "metadata": {
    "collapsed": true
   },
   "outputs": [],
   "source": []
  },
  {
   "cell_type": "code",
   "execution_count": null,
   "metadata": {
    "collapsed": true
   },
   "outputs": [],
   "source": []
  },
  {
   "cell_type": "code",
   "execution_count": null,
   "metadata": {
    "collapsed": true
   },
   "outputs": [],
   "source": []
  },
  {
   "cell_type": "code",
   "execution_count": null,
   "metadata": {
    "collapsed": true
   },
   "outputs": [],
   "source": []
  },
  {
   "cell_type": "code",
   "execution_count": null,
   "metadata": {
    "collapsed": true
   },
   "outputs": [],
   "source": []
  },
  {
   "cell_type": "code",
   "execution_count": null,
   "metadata": {
    "collapsed": true
   },
   "outputs": [],
   "source": []
  },
  {
   "cell_type": "code",
   "execution_count": null,
   "metadata": {
    "collapsed": true
   },
   "outputs": [],
   "source": []
  },
  {
   "cell_type": "code",
   "execution_count": null,
   "metadata": {
    "collapsed": true
   },
   "outputs": [],
   "source": []
  },
  {
   "cell_type": "code",
   "execution_count": null,
   "metadata": {
    "collapsed": true
   },
   "outputs": [],
   "source": []
  },
  {
   "cell_type": "code",
   "execution_count": null,
   "metadata": {
    "collapsed": true
   },
   "outputs": [],
   "source": []
  }
 ],
 "metadata": {
  "kernelspec": {
   "display_name": "Python 3",
   "language": "python",
   "name": "python3"
  },
  "language_info": {
   "codemirror_mode": {
    "name": "ipython",
    "version": 3
   },
   "file_extension": ".py",
   "mimetype": "text/x-python",
   "name": "python",
   "nbconvert_exporter": "python",
   "pygments_lexer": "ipython3",
   "version": "3.6.3"
  }
 },
 "nbformat": 4,
 "nbformat_minor": 2
}
