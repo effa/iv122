{
 "cells": [
  {
   "cell_type": "markdown",
   "metadata": {},
   "source": [
    "# Maze Generators"
   ]
  },
  {
   "cell_type": "code",
   "execution_count": 1,
   "metadata": {
    "collapsed": true
   },
   "outputs": [],
   "source": [
    "%load_ext autoreload\n",
    "%autoreload 2\n",
    "%matplotlib inline"
   ]
  },
  {
   "cell_type": "code",
   "execution_count": 2,
   "metadata": {
    "collapsed": true
   },
   "outputs": [],
   "source": [
    "from collections import OrderedDict, deque, defaultdict, namedtuple\n",
    "from itertools import product\n",
    "from math import sqrt, pi, sin, cos\n",
    "from random import random, randint, choice, shuffle\n",
    "import os\n",
    "from IPython.display import display, clear_output, Image, HTML\n",
    "import ipywidgets as widgets\n",
    "import numpy as np\n",
    "import matplotlib\n",
    "import matplotlib.animation\n",
    "import matplotlib.pyplot as plt\n",
    "import pandas as pd\n",
    "import seaborn as sns\n",
    "from drawing import VectorImage"
   ]
  },
  {
   "cell_type": "markdown",
   "metadata": {},
   "source": [
    "-----\n",
    "\n",
    "# A) Pefect Maze on Square Grid using DFS\n",
    "\n",
    "Process: start with all edges, then destroy them using random DFS from any point (backtrack from dead ends, don't create loops).\n",
    "\n",
    "Representation of edges: (x1, y1, x2, y2), where (x1, y1) < (x2, y2) are the neighboring fields. OR? (p1, p2)?\n",
    "\n",
    "Or using redundancy: for each field we have four boolens whether there is a wall in that direction. TODO: try both and compare"
   ]
  },
  {
   "cell_type": "code",
   "execution_count": 4,
   "metadata": {},
   "outputs": [
    {
     "data": {
      "text/plain": [
       "[2, 3, 1]"
      ]
     },
     "execution_count": 4,
     "metadata": {},
     "output_type": "execute_result"
    }
   ],
   "source": [
    "a = [1,2,3]\n",
    "shuffle(a)\n",
    "a"
   ]
  },
  {
   "cell_type": "code",
   "execution_count": 27,
   "metadata": {},
   "outputs": [
    {
     "data": {
      "text/plain": [
       "[(1, 0), (0, 1), (-1, 0), (0, -1)]"
      ]
     },
     "execution_count": 27,
     "metadata": {},
     "output_type": "execute_result"
    }
   ],
   "source": [
    "DIRS"
   ]
  },
  {
   "cell_type": "code",
   "execution_count": 56,
   "metadata": {},
   "outputs": [
    {
     "name": "stderr",
     "output_type": "stream",
     "text": [
      "/home/xeffenb1/miniconda3/lib/python3.6/site-packages/matplotlib/pyplot.py:524: RuntimeWarning: More than 20 figures have been opened. Figures created through the pyplot interface (`matplotlib.pyplot.figure`) are retained until explicitly closed and may consume too much memory. (To control this warning, see the rcParam `figure.max_open_warning`).\n",
      "  max_open_warning, RuntimeWarning)\n"
     ]
    },
    {
     "data": {
      "image/png": "[encoded data removed]",
      "text/plain": [
       "<matplotlib.figure.Figure at 0x7f7c67208748>"
      ]
     },
     "execution_count": 56,
     "metadata": {},
     "output_type": "execute_result"
    }
   ],
   "source": [
    "# Directions: right, up, left, down\n",
    "DIRS = [(1, 0), (0, 1), (-1, 0), (0, -1)]\n",
    "SHIFTS = [(1, -1), (1, 0), (0, 0), (0, -1)]  # for drawing\n",
    "\n",
    "def create_perfect_maze(size):\n",
    "    maze = create_full_maze(size)\n",
    "    destroy_walls_dfs(maze)\n",
    "    #return maze\n",
    "    return draw_maze(maze)\n",
    "\n",
    "def create_full_maze(size):\n",
    "    return {(x, y): [True, True, True, True]\n",
    "            for x in range(size) for y in range(size)}\n",
    "        \n",
    "def destroy_walls_dfs(maze, visited=None, start=(0, 0)):\n",
    "    visited = visited or set()\n",
    "    visited.add(start)\n",
    "    #print('visit', start)\n",
    "    order = list(range(4))\n",
    "    shuffle(order)\n",
    "    for i in order:\n",
    "        neighbor = move(start, DIRS[i])\n",
    "        #print('neighbor', neighbor)\n",
    "        if neighbor in maze and neighbor not in visited:\n",
    "            #print('breaking wall', start, i, 'and', neighbor, (i+2)%4)\n",
    "            maze[start][i] = False\n",
    "            maze[neighbor][(i+2)%4] = False\n",
    "            destroy_walls_dfs(maze, visited, neighbor)\n",
    "\n",
    "def move(point, d):\n",
    "    return (point[0] + d[0], point[1] + d[1])\n",
    "\n",
    "def draw_maze(maze, linewidth=3, **kwargs):\n",
    "    im = VectorImage()\n",
    "    for point, walls in maze.items():\n",
    "        for i, is_wall in enumerate(walls):\n",
    "            if is_wall:\n",
    "                p1 = move(point, SHIFTS[i])\n",
    "                p2 = move(point, SHIFTS[(i+1)%4])\n",
    "                #print('wall', p1, p2)\n",
    "                im.line(p1, p2, linewidth=linewidth, **kwargs)\n",
    "    return im\n",
    "\n",
    "# TODO: Fix displaying images\n",
    "create_perfect_maze(3).fig\n",
    "#draw_maze({(0, 0): [True, True, True, True]}).fig"
   ]
  },
  {
   "cell_type": "code",
   "execution_count": null,
   "metadata": {
    "collapsed": true
   },
   "outputs": [],
   "source": []
  },
  {
   "cell_type": "code",
   "execution_count": null,
   "metadata": {
    "collapsed": true
   },
   "outputs": [],
   "source": []
  },
  {
   "cell_type": "code",
   "execution_count": null,
   "metadata": {
    "collapsed": true
   },
   "outputs": [],
   "source": []
  },
  {
   "cell_type": "code",
   "execution_count": null,
   "metadata": {
    "collapsed": true
   },
   "outputs": [],
   "source": []
  },
  {
   "cell_type": "code",
   "execution_count": null,
   "metadata": {
    "collapsed": true
   },
   "outputs": [],
   "source": []
  },
  {
   "cell_type": "code",
   "execution_count": null,
   "metadata": {
    "collapsed": true
   },
   "outputs": [],
   "source": []
  },
  {
   "cell_type": "code",
   "execution_count": null,
   "metadata": {
    "collapsed": true
   },
   "outputs": [],
   "source": []
  },
  {
   "cell_type": "code",
   "execution_count": null,
   "metadata": {
    "collapsed": true
   },
   "outputs": [],
   "source": []
  },
  {
   "cell_type": "code",
   "execution_count": null,
   "metadata": {
    "collapsed": true
   },
   "outputs": [],
   "source": []
  },
  {
   "cell_type": "code",
   "execution_count": null,
   "metadata": {
    "collapsed": true
   },
   "outputs": [],
   "source": []
  },
  {
   "cell_type": "code",
   "execution_count": null,
   "metadata": {
    "collapsed": true
   },
   "outputs": [],
   "source": []
  },
  {
   "cell_type": "code",
   "execution_count": null,
   "metadata": {
    "collapsed": true
   },
   "outputs": [],
   "source": []
  },
  {
   "cell_type": "code",
   "execution_count": null,
   "metadata": {
    "collapsed": true
   },
   "outputs": [],
   "source": []
  },
  {
   "cell_type": "code",
   "execution_count": null,
   "metadata": {
    "collapsed": true
   },
   "outputs": [],
   "source": []
  },
  {
   "cell_type": "code",
   "execution_count": null,
   "metadata": {
    "collapsed": true
   },
   "outputs": [],
   "source": []
  },
  {
   "cell_type": "code",
   "execution_count": null,
   "metadata": {
    "collapsed": true
   },
   "outputs": [],
   "source": []
  },
  {
   "cell_type": "code",
   "execution_count": null,
   "metadata": {
    "collapsed": true
   },
   "outputs": [],
   "source": []
  },
  {
   "cell_type": "code",
   "execution_count": null,
   "metadata": {
    "collapsed": true
   },
   "outputs": [],
   "source": []
  },
  {
   "cell_type": "code",
   "execution_count": null,
   "metadata": {
    "collapsed": true
   },
   "outputs": [],
   "source": []
  },
  {
   "cell_type": "code",
   "execution_count": null,
   "metadata": {
    "collapsed": true
   },
   "outputs": [],
   "source": []
  },
  {
   "cell_type": "code",
   "execution_count": null,
   "metadata": {
    "collapsed": true
   },
   "outputs": [],
   "source": []
  }
 ],
 "metadata": {
  "kernelspec": {
   "display_name": "Python 3",
   "language": "python",
   "name": "python3"
  },
  "language_info": {
   "codemirror_mode": {
    "name": "ipython",
    "version": 3
   },
   "file_extension": ".py",
   "mimetype": "text/x-python",
   "name": "python",
   "nbconvert_exporter": "python",
   "pygments_lexer": "ipython3",
   "version": "3.6.1"
  }
 },
 "nbformat": 4,
 "nbformat_minor": 2
}
