{
 "cells": [
  {
   "cell_type": "markdown",
   "metadata": {},
   "source": [
    "# Maze Generators"
   ]
  },
  {
   "cell_type": "code",
   "execution_count": 1,
   "metadata": {
    "collapsed": true
   },
   "outputs": [],
   "source": [
    "%load_ext autoreload\n",
    "%autoreload 2\n",
    "%matplotlib inline"
   ]
  },
  {
   "cell_type": "code",
   "execution_count": 2,
   "metadata": {
    "collapsed": true
   },
   "outputs": [],
   "source": [
    "from collections import OrderedDict, deque, defaultdict, namedtuple\n",
    "from itertools import product\n",
    "from math import sqrt, pi, sin, cos\n",
    "from random import random, randint, choice, shuffle\n",
    "import os\n",
    "from IPython.display import display, clear_output, Image, HTML\n",
    "import ipywidgets as widgets\n",
    "import numpy as np\n",
    "import matplotlib\n",
    "import matplotlib.animation\n",
    "import matplotlib.pyplot as plt\n",
    "import pandas as pd\n",
    "import seaborn as sns\n",
    "from drawing import VectorImage"
   ]
  },
  {
   "cell_type": "markdown",
   "metadata": {},
   "source": [
    "-----\n",
    "\n",
    "# A) Pefect Maze on Square Grid using DFS\n",
    "\n",
    "Process: start with all edges, then destroy them using random DFS from any point (backtrack from dead ends, don't create loops).\n",
    "\n",
    "Representation of edges: (x1, y1, x2, y2), where (x1, y1) < (x2, y2) are the neighboring fields. OR? (p1, p2)?\n",
    "\n",
    "Or using redundancy: for each field we have four boolens whether there is a wall in that direction. TODO: try both and compare\n",
    "\n",
    "TODO: Also consider: set of (x, y, i_dir), set of (x, y, dx, dy), set of (point, dir) (all with redundancies + add/remove edge)"
   ]
  },
  {
   "cell_type": "code",
   "execution_count": 16,
   "metadata": {},
   "outputs": [
    {
     "data": {
      "image/png": "[encoded data removed]",
      "text/plain": [
       "<matplotlib.figure.Figure at 0x7fa7a399e940>"
      ]
     },
     "metadata": {},
     "output_type": "display_data"
    }
   ],
   "source": [
    "# Directions: right, down, left, up (for origin in top-left corner)??\n",
    "DIRS = [(1, 0), (0, 1), (-1, 0), (0, -1)]\n",
    "SHIFTS = [(1, -1), (1, 0), (0, 0), (0, -1)]  # for drawing\n",
    "\n",
    "def create_perfect_maze(size):\n",
    "    maze = create_full_maze(size)\n",
    "    destroy_walls_dfs(maze)\n",
    "    draw_maze(maze)\n",
    "\n",
    "def create_full_maze(size):\n",
    "    return {(x, y): [True] * 4\n",
    "            for x in range(size) for y in range(size)}\n",
    "        \n",
    "def destroy_walls_dfs(maze, visited=None, start=(0, 0)):\n",
    "    visited = visited or set()\n",
    "    visited.add(start)\n",
    "    order = list(range(4))\n",
    "    shuffle(order)\n",
    "    for i in order:\n",
    "        neighbor = move(start, DIRS[i])\n",
    "        if neighbor in maze and neighbor not in visited:\n",
    "            maze[start][i] = False\n",
    "            maze[neighbor][(i+2)%4] = False\n",
    "            destroy_walls_dfs(maze, visited, neighbor)\n",
    "\n",
    "def move(point, d):\n",
    "    return (point[0] + d[0], point[1] + d[1])\n",
    "\n",
    "def draw_maze(maze, linewidth=3, **kwargs):\n",
    "    im = VectorImage()\n",
    "    for point, walls in maze.items():\n",
    "        for i, is_wall in enumerate(walls):\n",
    "            if is_wall:\n",
    "                p1 = move(point, SHIFTS[i])\n",
    "                p2 = move(point, SHIFTS[(i+1)%4])\n",
    "                im.line(p1, p2, linewidth=linewidth, **kwargs)\n",
    "    return im\n",
    "\n",
    "create_perfect_maze(14)"
   ]
  },
  {
   "cell_type": "markdown",
   "metadata": {
    "collapsed": true
   },
   "source": [
    "-----\n",
    "\n",
    "# B) Braid Maze"
   ]
  },
  {
   "cell_type": "code",
   "execution_count": 30,
   "metadata": {},
   "outputs": [
    {
     "ename": "RecursionError",
     "evalue": "maximum recursion depth exceeded in comparison",
     "output_type": "error",
     "traceback": [
      "\u001b[0;31m---------------------------------------------------------------------------\u001b[0m",
      "\u001b[0;31mRecursionError\u001b[0m                            Traceback (most recent call last)",
      "\u001b[0;32m<ipython-input-30-729b4285f8a1>\u001b[0m in \u001b[0;36m<module>\u001b[0;34m()\u001b[0m\n\u001b[1;32m     54\u001b[0m     \u001b[0mmaze\u001b[0m\u001b[0;34m[\u001b[0m\u001b[0mneighbor\u001b[0m\u001b[0;34m]\u001b[0m\u001b[0;34m[\u001b[0m\u001b[0;34m(\u001b[0m\u001b[0mi_dir\u001b[0m\u001b[0;34m+\u001b[0m\u001b[0;36m2\u001b[0m\u001b[0;34m)\u001b[0m\u001b[0;34m%\u001b[0m\u001b[0;36m4\u001b[0m\u001b[0;34m]\u001b[0m \u001b[0;34m=\u001b[0m \u001b[0mvalue\u001b[0m\u001b[0;34m\u001b[0m\u001b[0m\n\u001b[1;32m     55\u001b[0m \u001b[0;34m\u001b[0m\u001b[0m\n\u001b[0;32m---> 56\u001b[0;31m \u001b[0mcreate_braid_maze\u001b[0m\u001b[0;34m(\u001b[0m\u001b[0;36m3\u001b[0m\u001b[0;34m)\u001b[0m\u001b[0;34m\u001b[0m\u001b[0m\n\u001b[0m",
      "\u001b[0;32m<ipython-input-30-729b4285f8a1>\u001b[0m in \u001b[0;36mcreate_braid_maze\u001b[0;34m(size)\u001b[0m\n\u001b[1;32m     10\u001b[0m         \u001b[0mdirection\u001b[0m \u001b[0;34m=\u001b[0m \u001b[0mDIRS\u001b[0m\u001b[0;34m[\u001b[0m\u001b[0mi_dir\u001b[0m\u001b[0;34m]\u001b[0m\u001b[0;34m\u001b[0m\u001b[0m\n\u001b[1;32m     11\u001b[0m         \u001b[0madd_wall\u001b[0m\u001b[0;34m(\u001b[0m\u001b[0mmaze\u001b[0m\u001b[0;34m,\u001b[0m \u001b[0mcell\u001b[0m\u001b[0;34m,\u001b[0m \u001b[0mi_dir\u001b[0m\u001b[0;34m)\u001b[0m\u001b[0;34m\u001b[0m\u001b[0m\n\u001b[0;32m---> 12\u001b[0;31m         \u001b[0;32mif\u001b[0m \u001b[0;32mnot\u001b[0m \u001b[0mis_reachable\u001b[0m\u001b[0;34m(\u001b[0m\u001b[0mmaze\u001b[0m\u001b[0;34m,\u001b[0m \u001b[0mcell\u001b[0m\u001b[0;34m,\u001b[0m \u001b[0mmove\u001b[0m\u001b[0;34m(\u001b[0m\u001b[0mcell\u001b[0m\u001b[0;34m,\u001b[0m \u001b[0mdirection\u001b[0m\u001b[0;34m)\u001b[0m\u001b[0;34m)\u001b[0m\u001b[0;34m:\u001b[0m\u001b[0;34m\u001b[0m\u001b[0m\n\u001b[0m\u001b[1;32m     13\u001b[0m             \u001b[0mremove_wall\u001b[0m\u001b[0;34m(\u001b[0m\u001b[0mmaze\u001b[0m\u001b[0;34m,\u001b[0m \u001b[0mcell\u001b[0m\u001b[0;34m,\u001b[0m \u001b[0mi_dir\u001b[0m\u001b[0;34m)\u001b[0m\u001b[0;34m\u001b[0m\u001b[0m\n\u001b[1;32m     14\u001b[0m     \u001b[0mdraw_maze\u001b[0m\u001b[0;34m(\u001b[0m\u001b[0mmaze\u001b[0m\u001b[0;34m)\u001b[0m\u001b[0;34m\u001b[0m\u001b[0m\n",
      "\u001b[0;32m<ipython-input-30-729b4285f8a1>\u001b[0m in \u001b[0;36mis_reachable\u001b[0;34m(maze, start, end, visited)\u001b[0m\n\u001b[1;32m     39\u001b[0m         \u001b[0;32mif\u001b[0m \u001b[0mis_wall\u001b[0m \u001b[0;32mor\u001b[0m  \u001b[0mneighbor\u001b[0m \u001b[0;32min\u001b[0m \u001b[0mvisited\u001b[0m\u001b[0;34m:\u001b[0m\u001b[0;34m\u001b[0m\u001b[0m\n\u001b[1;32m     40\u001b[0m             \u001b[0;32mcontinue\u001b[0m\u001b[0;34m\u001b[0m\u001b[0m\n\u001b[0;32m---> 41\u001b[0;31m         \u001b[0;32mif\u001b[0m \u001b[0mis_reachable\u001b[0m\u001b[0;34m(\u001b[0m\u001b[0mmaze\u001b[0m\u001b[0;34m,\u001b[0m \u001b[0mneighbor\u001b[0m\u001b[0;34m,\u001b[0m \u001b[0mend\u001b[0m\u001b[0;34m)\u001b[0m\u001b[0;34m:\u001b[0m\u001b[0;34m\u001b[0m\u001b[0m\n\u001b[0m\u001b[1;32m     42\u001b[0m             \u001b[0;32mreturn\u001b[0m \u001b[0;32mTrue\u001b[0m\u001b[0;34m\u001b[0m\u001b[0m\n\u001b[1;32m     43\u001b[0m     \u001b[0;32mreturn\u001b[0m \u001b[0;32mFalse\u001b[0m\u001b[0;34m\u001b[0m\u001b[0m\n",
      "... last 1 frames repeated, from the frame below ...\n",
      "\u001b[0;32m<ipython-input-30-729b4285f8a1>\u001b[0m in \u001b[0;36mis_reachable\u001b[0;34m(maze, start, end, visited)\u001b[0m\n\u001b[1;32m     39\u001b[0m         \u001b[0;32mif\u001b[0m \u001b[0mis_wall\u001b[0m \u001b[0;32mor\u001b[0m  \u001b[0mneighbor\u001b[0m \u001b[0;32min\u001b[0m \u001b[0mvisited\u001b[0m\u001b[0;34m:\u001b[0m\u001b[0;34m\u001b[0m\u001b[0m\n\u001b[1;32m     40\u001b[0m             \u001b[0;32mcontinue\u001b[0m\u001b[0;34m\u001b[0m\u001b[0m\n\u001b[0;32m---> 41\u001b[0;31m         \u001b[0;32mif\u001b[0m \u001b[0mis_reachable\u001b[0m\u001b[0;34m(\u001b[0m\u001b[0mmaze\u001b[0m\u001b[0;34m,\u001b[0m \u001b[0mneighbor\u001b[0m\u001b[0;34m,\u001b[0m \u001b[0mend\u001b[0m\u001b[0;34m)\u001b[0m\u001b[0;34m:\u001b[0m\u001b[0;34m\u001b[0m\u001b[0m\n\u001b[0m\u001b[1;32m     42\u001b[0m             \u001b[0;32mreturn\u001b[0m \u001b[0;32mTrue\u001b[0m\u001b[0;34m\u001b[0m\u001b[0m\n\u001b[1;32m     43\u001b[0m     \u001b[0;32mreturn\u001b[0m \u001b[0;32mFalse\u001b[0m\u001b[0;34m\u001b[0m\u001b[0m\n",
      "\u001b[0;31mRecursionError\u001b[0m: maximum recursion depth exceeded in comparison"
     ]
    }
   ],
   "source": [
    "def create_braid_maze(size):\n",
    "    maze = create_empty_maze(size)\n",
    "    #add_wall_for_each_cell(maze)\n",
    "    for i in range(1):\n",
    "        # select random edge\n",
    "        # check if adding wall makes the points still reachable\n",
    "        # if so, add the wall\n",
    "        cell = (0, 0)\n",
    "        i_dir = 0\n",
    "        direction = DIRS[i_dir]\n",
    "        add_wall(maze, cell, i_dir)\n",
    "        if not is_reachable(maze, cell, move(cell, direction)):\n",
    "            remove_wall(maze, cell, i_dir)\n",
    "    draw_maze(maze)\n",
    "\n",
    "def create_empty_maze(size):\n",
    "    maze = {(x, y): [False] * 4\n",
    "            for x in range(size) for y in range(size)}\n",
    "    for i in range(size):\n",
    "        maze[(size-1, i)][0] = True\n",
    "        maze[(i, size-1)][1] = True\n",
    "        maze[(0, i)][2] = True\n",
    "        maze[(i, 0)][3] = True\n",
    "    return maze\n",
    "    \n",
    "def add_wall_for_each_cell(maze):\n",
    "    for cell in maze:\n",
    "        i_dir = randint(0, 3)\n",
    "        add_wall(maze, cell, i_dir)\n",
    "        \n",
    "def is_reachable(maze, start, end, visited=None):\n",
    "    if start == end:\n",
    "        return True\n",
    "    visited = visited or set()\n",
    "    visited.add(start)\n",
    "    for i_dir, d in enumerate(DIRS):\n",
    "        neighbor = move(start, d)\n",
    "        is_wall = maze[start][i_dir]\n",
    "        if is_wall or  neighbor in visited:\n",
    "            continue        \n",
    "        if is_reachable(maze, neighbor, end):\n",
    "            return True\n",
    "    return False            \n",
    "            \n",
    "def add_wall(maze, cell, i_dir):\n",
    "    set_wall(maze, cell, i_dir, value=True)\n",
    "\n",
    "def remove_wall(maze, cell, i_dir):\n",
    "    set_wall(maze, cell, i_dir, value=False)\n",
    "\n",
    "def set_wall(maze, cell, i_dir, value):\n",
    "    maze[cell][i_dir] = value\n",
    "    neighbor = move(cell, DIRS[i_dir])\n",
    "    maze[neighbor][(i_dir+2)%4] = value            \n",
    "\n",
    "create_braid_maze(3)"
   ]
  },
  {
   "cell_type": "code",
   "execution_count": null,
   "metadata": {
    "collapsed": true
   },
   "outputs": [],
   "source": []
  },
  {
   "cell_type": "code",
   "execution_count": null,
   "metadata": {
    "collapsed": true
   },
   "outputs": [],
   "source": []
  },
  {
   "cell_type": "code",
   "execution_count": null,
   "metadata": {
    "collapsed": true
   },
   "outputs": [],
   "source": []
  },
  {
   "cell_type": "code",
   "execution_count": null,
   "metadata": {
    "collapsed": true
   },
   "outputs": [],
   "source": []
  },
  {
   "cell_type": "code",
   "execution_count": null,
   "metadata": {
    "collapsed": true
   },
   "outputs": [],
   "source": []
  },
  {
   "cell_type": "code",
   "execution_count": null,
   "metadata": {
    "collapsed": true
   },
   "outputs": [],
   "source": []
  },
  {
   "cell_type": "code",
   "execution_count": null,
   "metadata": {
    "collapsed": true
   },
   "outputs": [],
   "source": []
  },
  {
   "cell_type": "code",
   "execution_count": null,
   "metadata": {
    "collapsed": true
   },
   "outputs": [],
   "source": []
  },
  {
   "cell_type": "code",
   "execution_count": null,
   "metadata": {
    "collapsed": true
   },
   "outputs": [],
   "source": []
  },
  {
   "cell_type": "code",
   "execution_count": null,
   "metadata": {
    "collapsed": true
   },
   "outputs": [],
   "source": []
  },
  {
   "cell_type": "code",
   "execution_count": null,
   "metadata": {
    "collapsed": true
   },
   "outputs": [],
   "source": []
  },
  {
   "cell_type": "code",
   "execution_count": null,
   "metadata": {
    "collapsed": true
   },
   "outputs": [],
   "source": []
  },
  {
   "cell_type": "code",
   "execution_count": null,
   "metadata": {
    "collapsed": true
   },
   "outputs": [],
   "source": []
  },
  {
   "cell_type": "code",
   "execution_count": null,
   "metadata": {
    "collapsed": true
   },
   "outputs": [],
   "source": []
  },
  {
   "cell_type": "code",
   "execution_count": null,
   "metadata": {
    "collapsed": true
   },
   "outputs": [],
   "source": []
  },
  {
   "cell_type": "code",
   "execution_count": null,
   "metadata": {
    "collapsed": true
   },
   "outputs": [],
   "source": []
  },
  {
   "cell_type": "code",
   "execution_count": null,
   "metadata": {
    "collapsed": true
   },
   "outputs": [],
   "source": []
  },
  {
   "cell_type": "code",
   "execution_count": null,
   "metadata": {
    "collapsed": true
   },
   "outputs": [],
   "source": []
  },
  {
   "cell_type": "code",
   "execution_count": null,
   "metadata": {
    "collapsed": true
   },
   "outputs": [],
   "source": []
  }
 ],
 "metadata": {
  "kernelspec": {
   "display_name": "Python 3",
   "language": "python",
   "name": "python3"
  },
  "language_info": {
   "codemirror_mode": {
    "name": "ipython",
    "version": 3
   },
   "file_extension": ".py",
   "mimetype": "text/x-python",
   "name": "python",
   "nbconvert_exporter": "python",
   "pygments_lexer": "ipython3",
   "version": "3.6.3"
  }
 },
 "nbformat": 4,
 "nbformat_minor": 2
}
