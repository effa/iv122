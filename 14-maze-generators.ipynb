{
 "cells": [
  {
   "cell_type": "markdown",
   "metadata": {},
   "source": [
    "# Maze Generators"
   ]
  },
  {
   "cell_type": "code",
   "execution_count": 1,
   "metadata": {
    "collapsed": true
   },
   "outputs": [],
   "source": [
    "%load_ext autoreload\n",
    "%autoreload 2\n",
    "%matplotlib inline"
   ]
  },
  {
   "cell_type": "code",
   "execution_count": 2,
   "metadata": {
    "collapsed": true
   },
   "outputs": [],
   "source": [
    "from collections import OrderedDict, deque, defaultdict, namedtuple\n",
    "from itertools import product\n",
    "from math import sqrt, pi, sin, cos\n",
    "from random import random, randint, choice, shuffle\n",
    "import os\n",
    "from IPython.display import display, clear_output, Image, HTML\n",
    "import ipywidgets as widgets\n",
    "import numpy as np\n",
    "import matplotlib\n",
    "import matplotlib.animation\n",
    "import matplotlib.pyplot as plt\n",
    "import pandas as pd\n",
    "import seaborn as sns\n",
    "from drawing import VectorImage"
   ]
  },
  {
   "cell_type": "markdown",
   "metadata": {},
   "source": [
    "-----\n",
    "\n",
    "# A) Pefect Maze on Square Grid using DFS\n",
    "\n",
    "Process: start with all edges, then destroy them using random DFS from any point (backtrack from dead ends, don't create loops)."
   ]
  },
  {
   "cell_type": "code",
   "execution_count": 38,
   "metadata": {},
   "outputs": [
    {
     "data": {
      "image/png": "[encoded data removed]",
      "text/plain": [
       "<matplotlib.figure.Figure at 0x7fa7a360deb8>"
      ]
     },
     "metadata": {},
     "output_type": "display_data"
    }
   ],
   "source": [
    "# Originat at bottom-left corner.\n",
    "# Directions: right, up, left, down.\n",
    "DIRS = [(1, 0), (0, 1), (-1, 0), (0, -1)]\n",
    "\n",
    "def create_perfect_maze(size):\n",
    "    maze = create_full_maze(size)\n",
    "    destroy_walls_dfs(maze)\n",
    "    draw_maze(maze)\n",
    "\n",
    "def create_full_maze(size):\n",
    "    return {(x, y): [True] * 4\n",
    "            for x in range(size) for y in range(size)}\n",
    "        \n",
    "def destroy_walls_dfs(maze, visited=None, start=(0, 0)):\n",
    "    visited = visited or set()\n",
    "    visited.add(start)\n",
    "    order = list(range(4))\n",
    "    shuffle(order)\n",
    "    for i in order:\n",
    "        neighbor = move(start, DIRS[i])\n",
    "        if neighbor in maze and neighbor not in visited:\n",
    "            maze[start][i] = False\n",
    "            maze[neighbor][(i+2)%4] = False\n",
    "            destroy_walls_dfs(maze, visited, neighbor)\n",
    "\n",
    "def move(point, d):\n",
    "    return (point[0] + d[0], point[1] + d[1])\n",
    "\n",
    "def draw_maze(maze, linewidth=3, **kwargs):\n",
    "    shifts = [(1, 0), (1, 1), (0, 1), (0, 0)]\n",
    "    im = VectorImage()\n",
    "    for point, walls in maze.items():\n",
    "        for i, is_wall in enumerate(walls):\n",
    "            if is_wall:\n",
    "                p1 = move(point, shifts[i])\n",
    "                p2 = move(point, shifts[(i+1)%4])\n",
    "                im.line(p1, p2, linewidth=linewidth, **kwargs)\n",
    "    return im\n",
    "\n",
    "create_perfect_maze(10)"
   ]
  },
  {
   "cell_type": "markdown",
   "metadata": {
    "collapsed": true
   },
   "source": [
    "-----\n",
    "\n",
    "# B) Braid Maze"
   ]
  },
  {
   "cell_type": "code",
   "execution_count": 81,
   "metadata": {},
   "outputs": [
    {
     "data": {
      "image/png": "[encoded data removed]",
      "text/plain": [
       "<matplotlib.figure.Figure at 0x7fa7a398ca58>"
      ]
     },
     "metadata": {},
     "output_type": "display_data"
    }
   ],
   "source": [
    "def create_braid_maze(size):\n",
    "    maze = create_empty_maze(size)\n",
    "    add_wall_for_each_crossing(maze, size)   \n",
    "    # Only take 1 vertical and 1 horizontal direction for uniequeness.\n",
    "    candidates = {\n",
    "        (cell, i) for cell in maze for i, d in enumerate(DIRS[:2])\n",
    "        if (move(cell, d) in maze)}\n",
    "    while candidates:\n",
    "        cell, i_dir = choice(list(candidates))\n",
    "        candidates.remove((cell, i_dir))\n",
    "        add_wall_if_safe(maze, cell, i_dir)\n",
    "    draw_maze(maze)\n",
    "    \n",
    "def add_wall_for_each_crossing(maze, size):\n",
    "    for x in range(1, size):\n",
    "        for y in range(1, size):\n",
    "            add_wall_from_crosssing(maze, x, y)\n",
    "            \n",
    "def add_wall_from_crosssing(maze, x, y):\n",
    "    shifts = [(0, -1), (0, 0), (-1, 0), (-1, -1)]\n",
    "    order = list(range(4))\n",
    "    shuffle(order)\n",
    "    for i in order:\n",
    "        cell = move((x, y), shifts[i])\n",
    "        i_dir = (i+1) % 4\n",
    "        if maze[cell][i_dir]:\n",
    "            return\n",
    "        if add_wall_if_safe(maze, cell, i_dir):\n",
    "            return\n",
    "    \n",
    "def add_wall_if_safe(maze, cell, i_dir):\n",
    "    direction = DIRS[i_dir]\n",
    "    neighbor = move(cell, direction)\n",
    "    if count_directions(maze, cell) < 3:\n",
    "        return False\n",
    "    if count_directions(maze, neighbor) < 3:\n",
    "        return False\n",
    "    add_wall(maze, cell, i_dir)\n",
    "    if not is_reachable(maze, cell, neighbor):\n",
    "        remove_wall(maze, cell, i_dir)\n",
    "        return False\n",
    "    return True\n",
    "\n",
    "def create_empty_maze(size):\n",
    "    maze = {(x, y): [False] * 4\n",
    "            for x in range(size) for y in range(size)}\n",
    "    for i in range(size):\n",
    "        maze[(size-1, i)][0] = True\n",
    "        maze[(i, size-1)][1] = True\n",
    "        maze[(0, i)][2] = True\n",
    "        maze[(i, 0)][3] = True\n",
    "    return maze\n",
    "\n",
    "def count_directions(maze, cell):\n",
    "    return sum(int(not maze[cell][d]) for d in range(4))\n",
    "\n",
    "def is_reachable(maze, start, end, visited=None):\n",
    "    if start == end:\n",
    "        return True\n",
    "    visited = visited or set()\n",
    "    visited.add(start)\n",
    "    for i_dir, d in enumerate(DIRS):\n",
    "        neighbor = move(start, d)\n",
    "        is_wall = maze[start][i_dir]\n",
    "        if is_wall or  neighbor in visited:\n",
    "            continue        \n",
    "        if is_reachable(maze, neighbor, end, visited=visited):\n",
    "            return True\n",
    "    return False            \n",
    "            \n",
    "def add_wall(maze, cell, i_dir):\n",
    "    set_wall(maze, cell, i_dir, value=True)\n",
    "\n",
    "def remove_wall(maze, cell, i_dir):\n",
    "    set_wall(maze, cell, i_dir, value=False)\n",
    "\n",
    "def set_wall(maze, cell, i_dir, value):\n",
    "    maze[cell][i_dir] = value\n",
    "    neighbor = move(cell, DIRS[i_dir])\n",
    "    maze[neighbor][(i_dir+2)%4] = value   \n",
    "    \n",
    "create_braid_maze(10)"
   ]
  },
  {
   "cell_type": "code",
   "execution_count": null,
   "metadata": {
    "collapsed": true
   },
   "outputs": [],
   "source": []
  },
  {
   "cell_type": "code",
   "execution_count": null,
   "metadata": {
    "collapsed": true
   },
   "outputs": [],
   "source": []
  },
  {
   "cell_type": "code",
   "execution_count": null,
   "metadata": {
    "collapsed": true
   },
   "outputs": [],
   "source": []
  },
  {
   "cell_type": "code",
   "execution_count": null,
   "metadata": {
    "collapsed": true
   },
   "outputs": [],
   "source": []
  },
  {
   "cell_type": "code",
   "execution_count": null,
   "metadata": {
    "collapsed": true
   },
   "outputs": [],
   "source": []
  },
  {
   "cell_type": "code",
   "execution_count": null,
   "metadata": {
    "collapsed": true
   },
   "outputs": [],
   "source": []
  },
  {
   "cell_type": "code",
   "execution_count": null,
   "metadata": {
    "collapsed": true
   },
   "outputs": [],
   "source": []
  },
  {
   "cell_type": "code",
   "execution_count": null,
   "metadata": {
    "collapsed": true
   },
   "outputs": [],
   "source": []
  },
  {
   "cell_type": "code",
   "execution_count": null,
   "metadata": {
    "collapsed": true
   },
   "outputs": [],
   "source": []
  },
  {
   "cell_type": "code",
   "execution_count": null,
   "metadata": {
    "collapsed": true
   },
   "outputs": [],
   "source": []
  },
  {
   "cell_type": "code",
   "execution_count": null,
   "metadata": {
    "collapsed": true
   },
   "outputs": [],
   "source": []
  },
  {
   "cell_type": "code",
   "execution_count": null,
   "metadata": {
    "collapsed": true
   },
   "outputs": [],
   "source": []
  },
  {
   "cell_type": "code",
   "execution_count": null,
   "metadata": {
    "collapsed": true
   },
   "outputs": [],
   "source": []
  },
  {
   "cell_type": "code",
   "execution_count": null,
   "metadata": {
    "collapsed": true
   },
   "outputs": [],
   "source": []
  },
  {
   "cell_type": "code",
   "execution_count": null,
   "metadata": {
    "collapsed": true
   },
   "outputs": [],
   "source": []
  },
  {
   "cell_type": "code",
   "execution_count": null,
   "metadata": {
    "collapsed": true
   },
   "outputs": [],
   "source": []
  },
  {
   "cell_type": "code",
   "execution_count": null,
   "metadata": {
    "collapsed": true
   },
   "outputs": [],
   "source": []
  },
  {
   "cell_type": "code",
   "execution_count": null,
   "metadata": {
    "collapsed": true
   },
   "outputs": [],
   "source": []
  },
  {
   "cell_type": "code",
   "execution_count": null,
   "metadata": {
    "collapsed": true
   },
   "outputs": [],
   "source": []
  }
 ],
 "metadata": {
  "kernelspec": {
   "display_name": "Python 3",
   "language": "python",
   "name": "python3"
  },
  "language_info": {
   "codemirror_mode": {
    "name": "ipython",
    "version": 3
   },
   "file_extension": ".py",
   "mimetype": "text/x-python",
   "name": "python",
   "nbconvert_exporter": "python",
   "pygments_lexer": "ipython3",
   "version": "3.6.3"
  }
 },
 "nbformat": 4,
 "nbformat_minor": 2
}
